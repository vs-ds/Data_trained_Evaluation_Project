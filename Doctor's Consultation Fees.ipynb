{
 "cells": [
  {
   "cell_type": "markdown",
   "metadata": {},
   "source": [
    "# Doctor's Consultation Fees Prediction\n",
    "Problem Statement:\n",
    "Predict A Doctor's Consultation Fee \n",
    "\n",
    "\n",
    "\n",
    "We have all been in situation where we go to a doctor in emergency and find that the consultation fees are too high. As a data scientist we all should do better. What if you have data that records important details about a doctor and you get to build a model to predict the doctor’s consulting fee.? This is the use case that let's you do that. \n",
    "\n",
    "Size of training set: 5961 records\n",
    "\n",
    "Size of test set: 1987 records\n",
    "\n",
    "\n",
    "\n",
    "FEATURES:\n",
    "\n",
    "Qualification: Qualification and degrees held by the doctor\n",
    "\n",
    "Experience: Experience of the doctor in number of years\n",
    "\n",
    "Rating: Rating given by patients\n",
    "\n",
    "Profile: Type of the doctor\n",
    "\n",
    "Miscellaneous_Info: Extra information about the doctor\n",
    "\n",
    "Fees: Fees charged by the doctor (Target Variable)\n",
    "\n",
    "Place: Area and the city where the doctor is located."
   ]
  },
  {
   "cell_type": "code",
   "execution_count": 1,
   "metadata": {},
   "outputs": [],
   "source": [
    "## Importing Important Libraries\n",
    "\n",
    "import numpy as np\n",
    "import pandas as pd\n",
    "import matplotlib.pyplot as plt\n",
    "import seaborn as sns\n",
    "import re\n",
    "\n",
    "from sklearn.model_selection import train_test_split\n",
    "from sklearn.metrics import*\n",
    "from sklearn.model_selection import*\n",
    "from sklearn.preprocessing import StandardScaler\n",
    "\n",
    "from sklearn.neighbors import KNeighborsRegressor\n",
    "from sklearn.svm import SVR\n",
    "from sklearn.tree import DecisionTreeRegressor\n",
    "from sklearn.ensemble import RandomForestRegressor\n",
    "\n",
    "import warnings\n",
    "warnings.filterwarnings('ignore')"
   ]
  },
  {
   "cell_type": "code",
   "execution_count": 2,
   "metadata": {},
   "outputs": [
    {
     "data": {
      "text/html": [
       "<div>\n",
       "<style scoped>\n",
       "    .dataframe tbody tr th:only-of-type {\n",
       "        vertical-align: middle;\n",
       "    }\n",
       "\n",
       "    .dataframe tbody tr th {\n",
       "        vertical-align: top;\n",
       "    }\n",
       "\n",
       "    .dataframe thead th {\n",
       "        text-align: right;\n",
       "    }\n",
       "</style>\n",
       "<table border=\"1\" class=\"dataframe\">\n",
       "  <thead>\n",
       "    <tr style=\"text-align: right;\">\n",
       "      <th></th>\n",
       "      <th>Qualification</th>\n",
       "      <th>Experience</th>\n",
       "      <th>Rating</th>\n",
       "      <th>Place</th>\n",
       "      <th>Profile</th>\n",
       "      <th>Miscellaneous_Info</th>\n",
       "      <th>Fees</th>\n",
       "    </tr>\n",
       "  </thead>\n",
       "  <tbody>\n",
       "    <tr>\n",
       "      <th>0</th>\n",
       "      <td>BHMS, MD - Homeopathy</td>\n",
       "      <td>24 years experience</td>\n",
       "      <td>100%</td>\n",
       "      <td>Kakkanad, Ernakulam</td>\n",
       "      <td>Homeopath</td>\n",
       "      <td>100% 16 Feedback Kakkanad, Ernakulam</td>\n",
       "      <td>100</td>\n",
       "    </tr>\n",
       "    <tr>\n",
       "      <th>1</th>\n",
       "      <td>BAMS, MD - Ayurveda Medicine</td>\n",
       "      <td>12 years experience</td>\n",
       "      <td>98%</td>\n",
       "      <td>Whitefield, Bangalore</td>\n",
       "      <td>Ayurveda</td>\n",
       "      <td>98% 76 Feedback Whitefield, Bangalore</td>\n",
       "      <td>350</td>\n",
       "    </tr>\n",
       "    <tr>\n",
       "      <th>2</th>\n",
       "      <td>MBBS, MS - Otorhinolaryngology</td>\n",
       "      <td>9 years experience</td>\n",
       "      <td>NaN</td>\n",
       "      <td>Mathikere - BEL, Bangalore</td>\n",
       "      <td>ENT Specialist</td>\n",
       "      <td>NaN</td>\n",
       "      <td>300</td>\n",
       "    </tr>\n",
       "    <tr>\n",
       "      <th>3</th>\n",
       "      <td>BSc - Zoology, BAMS</td>\n",
       "      <td>12 years experience</td>\n",
       "      <td>NaN</td>\n",
       "      <td>Bannerghatta Road, Bangalore</td>\n",
       "      <td>Ayurveda</td>\n",
       "      <td>Bannerghatta Road, Bangalore ₹250 Available on...</td>\n",
       "      <td>250</td>\n",
       "    </tr>\n",
       "    <tr>\n",
       "      <th>4</th>\n",
       "      <td>BAMS</td>\n",
       "      <td>20 years experience</td>\n",
       "      <td>100%</td>\n",
       "      <td>Keelkattalai, Chennai</td>\n",
       "      <td>Ayurveda</td>\n",
       "      <td>100% 4 Feedback Keelkattalai, Chennai</td>\n",
       "      <td>250</td>\n",
       "    </tr>\n",
       "    <tr>\n",
       "      <th>5</th>\n",
       "      <td>BAMS</td>\n",
       "      <td>8 years experience</td>\n",
       "      <td>NaN</td>\n",
       "      <td>Porur, Chennai</td>\n",
       "      <td>Ayurveda</td>\n",
       "      <td>NaN</td>\n",
       "      <td>100</td>\n",
       "    </tr>\n",
       "    <tr>\n",
       "      <th>6</th>\n",
       "      <td>BHMS</td>\n",
       "      <td>42 years experience</td>\n",
       "      <td>NaN</td>\n",
       "      <td>Karol Bagh, Delhi</td>\n",
       "      <td>Homeopath</td>\n",
       "      <td>NaN</td>\n",
       "      <td>200</td>\n",
       "    </tr>\n",
       "    <tr>\n",
       "      <th>7</th>\n",
       "      <td>BDS</td>\n",
       "      <td>10 years experience</td>\n",
       "      <td>99%</td>\n",
       "      <td>Arekere, Bangalore</td>\n",
       "      <td>Dentist</td>\n",
       "      <td>Dental Fillings Crowns and Bridges Fixing Impa...</td>\n",
       "      <td>200</td>\n",
       "    </tr>\n",
       "    <tr>\n",
       "      <th>8</th>\n",
       "      <td>MBBS, MD - General Medicine</td>\n",
       "      <td>14 years experience</td>\n",
       "      <td>NaN</td>\n",
       "      <td>Old City, Hyderabad</td>\n",
       "      <td>General Medicine</td>\n",
       "      <td>NaN</td>\n",
       "      <td>100</td>\n",
       "    </tr>\n",
       "    <tr>\n",
       "      <th>9</th>\n",
       "      <td>BSc, BDS</td>\n",
       "      <td>23 years experience</td>\n",
       "      <td>NaN</td>\n",
       "      <td>Athani, Ernakulam</td>\n",
       "      <td>Dentist</td>\n",
       "      <td>NaN</td>\n",
       "      <td>100</td>\n",
       "    </tr>\n",
       "  </tbody>\n",
       "</table>\n",
       "</div>"
      ],
      "text/plain": [
       "                    Qualification           Experience Rating  \\\n",
       "0           BHMS, MD - Homeopathy  24 years experience   100%   \n",
       "1    BAMS, MD - Ayurveda Medicine  12 years experience    98%   \n",
       "2  MBBS, MS - Otorhinolaryngology   9 years experience    NaN   \n",
       "3             BSc - Zoology, BAMS  12 years experience    NaN   \n",
       "4                            BAMS  20 years experience   100%   \n",
       "5                            BAMS   8 years experience    NaN   \n",
       "6                            BHMS  42 years experience    NaN   \n",
       "7                             BDS  10 years experience    99%   \n",
       "8     MBBS, MD - General Medicine  14 years experience    NaN   \n",
       "9                        BSc, BDS  23 years experience    NaN   \n",
       "\n",
       "                          Place           Profile  \\\n",
       "0           Kakkanad, Ernakulam         Homeopath   \n",
       "1         Whitefield, Bangalore          Ayurveda   \n",
       "2    Mathikere - BEL, Bangalore    ENT Specialist   \n",
       "3  Bannerghatta Road, Bangalore          Ayurveda   \n",
       "4         Keelkattalai, Chennai          Ayurveda   \n",
       "5                Porur, Chennai          Ayurveda   \n",
       "6             Karol Bagh, Delhi         Homeopath   \n",
       "7            Arekere, Bangalore           Dentist   \n",
       "8           Old City, Hyderabad  General Medicine   \n",
       "9             Athani, Ernakulam           Dentist   \n",
       "\n",
       "                                  Miscellaneous_Info  Fees  \n",
       "0               100% 16 Feedback Kakkanad, Ernakulam   100  \n",
       "1              98% 76 Feedback Whitefield, Bangalore   350  \n",
       "2                                                NaN   300  \n",
       "3  Bannerghatta Road, Bangalore ₹250 Available on...   250  \n",
       "4              100% 4 Feedback Keelkattalai, Chennai   250  \n",
       "5                                                NaN   100  \n",
       "6                                                NaN   200  \n",
       "7  Dental Fillings Crowns and Bridges Fixing Impa...   200  \n",
       "8                                                NaN   100  \n",
       "9                                                NaN   100  "
      ]
     },
     "execution_count": 2,
     "metadata": {},
     "output_type": "execute_result"
    }
   ],
   "source": [
    "train=pd.read_excel('C:/Users/ASUS/Desktop/PROJECT/csv files/Data-Science-ML-Capstone-Projects-master/Data-Science-ML-Capstone-Projects-master/Final Participant Data Folder/Final_Train.Xlsx')\n",
    "train.head(10)"
   ]
  },
  {
   "cell_type": "code",
   "execution_count": 3,
   "metadata": {},
   "outputs": [
    {
     "data": {
      "text/html": [
       "<div>\n",
       "<style scoped>\n",
       "    .dataframe tbody tr th:only-of-type {\n",
       "        vertical-align: middle;\n",
       "    }\n",
       "\n",
       "    .dataframe tbody tr th {\n",
       "        vertical-align: top;\n",
       "    }\n",
       "\n",
       "    .dataframe thead th {\n",
       "        text-align: right;\n",
       "    }\n",
       "</style>\n",
       "<table border=\"1\" class=\"dataframe\">\n",
       "  <thead>\n",
       "    <tr style=\"text-align: right;\">\n",
       "      <th></th>\n",
       "      <th>Qualification</th>\n",
       "      <th>Experience</th>\n",
       "      <th>Rating</th>\n",
       "      <th>Place</th>\n",
       "      <th>Profile</th>\n",
       "      <th>Miscellaneous_Info</th>\n",
       "    </tr>\n",
       "  </thead>\n",
       "  <tbody>\n",
       "    <tr>\n",
       "      <th>0</th>\n",
       "      <td>MBBS</td>\n",
       "      <td>35 years experience</td>\n",
       "      <td>NaN</td>\n",
       "      <td>Ghatkopar East, Mumbai</td>\n",
       "      <td>General Medicine</td>\n",
       "      <td>NaN</td>\n",
       "    </tr>\n",
       "    <tr>\n",
       "      <th>1</th>\n",
       "      <td>MBBS, Diploma in Otorhinolaryngology (DLO)</td>\n",
       "      <td>31 years experience</td>\n",
       "      <td>NaN</td>\n",
       "      <td>West Marredpally, Hyderabad</td>\n",
       "      <td>ENT Specialist</td>\n",
       "      <td>NaN</td>\n",
       "    </tr>\n",
       "    <tr>\n",
       "      <th>2</th>\n",
       "      <td>MBBS, DDVL</td>\n",
       "      <td>40 years experience</td>\n",
       "      <td>70%</td>\n",
       "      <td>KK Nagar, Chennai</td>\n",
       "      <td>Dermatologists</td>\n",
       "      <td>70% 4 Feedback KK Nagar, Chennai</td>\n",
       "    </tr>\n",
       "    <tr>\n",
       "      <th>3</th>\n",
       "      <td>BAMS</td>\n",
       "      <td>0 years experience</td>\n",
       "      <td>NaN</td>\n",
       "      <td>New Ashok Nagar, Delhi</td>\n",
       "      <td>Ayurveda</td>\n",
       "      <td>NaN</td>\n",
       "    </tr>\n",
       "    <tr>\n",
       "      <th>4</th>\n",
       "      <td>BDS, MDS - Conservative Dentistry &amp; Endodontics</td>\n",
       "      <td>16 years experience</td>\n",
       "      <td>100%</td>\n",
       "      <td>Kanakpura Road, Bangalore</td>\n",
       "      <td>Dentist</td>\n",
       "      <td>General Dentistry Conservative Dentistry Cosme...</td>\n",
       "    </tr>\n",
       "    <tr>\n",
       "      <th>5</th>\n",
       "      <td>BDS, MDS</td>\n",
       "      <td>14 years experience</td>\n",
       "      <td>90%</td>\n",
       "      <td>Velachery, Chennai</td>\n",
       "      <td>Dentist</td>\n",
       "      <td>Acrylic Partial Denture Impaction / Impacted T...</td>\n",
       "    </tr>\n",
       "    <tr>\n",
       "      <th>6</th>\n",
       "      <td>MBBS, Diploma in Otorhinolaryngology (DLO)</td>\n",
       "      <td>23 years experience</td>\n",
       "      <td>94%</td>\n",
       "      <td>Frazer Town, Bangalore</td>\n",
       "      <td>ENT Specialist</td>\n",
       "      <td>94% 6 Feedback Frazer Town, Bangalore</td>\n",
       "    </tr>\n",
       "    <tr>\n",
       "      <th>7</th>\n",
       "      <td>BDS, MDS - Pedodontics</td>\n",
       "      <td>9 years experience</td>\n",
       "      <td>94%</td>\n",
       "      <td>Attapur, Hyderabad</td>\n",
       "      <td>Dentist</td>\n",
       "      <td>RCT - Root Canal Treatment Ceramic Veneers / C...</td>\n",
       "    </tr>\n",
       "    <tr>\n",
       "      <th>8</th>\n",
       "      <td>MD - Ayurveda Medicine, BAMS, Yoga Teachers Tr...</td>\n",
       "      <td>11 years experience</td>\n",
       "      <td>99%</td>\n",
       "      <td>Banashankari, Bangalore</td>\n",
       "      <td>Ayurveda</td>\n",
       "      <td>99% 203 Feedback Banashankari, Bangalore</td>\n",
       "    </tr>\n",
       "    <tr>\n",
       "      <th>9</th>\n",
       "      <td>BHMS</td>\n",
       "      <td>44 years experience</td>\n",
       "      <td>NaN</td>\n",
       "      <td>Mayur Vihar Ph-I, Delhi</td>\n",
       "      <td>Homeopath</td>\n",
       "      <td>NaN</td>\n",
       "    </tr>\n",
       "  </tbody>\n",
       "</table>\n",
       "</div>"
      ],
      "text/plain": [
       "                                       Qualification           Experience  \\\n",
       "0                                               MBBS  35 years experience   \n",
       "1         MBBS, Diploma in Otorhinolaryngology (DLO)  31 years experience   \n",
       "2                                         MBBS, DDVL  40 years experience   \n",
       "3                                               BAMS   0 years experience   \n",
       "4    BDS, MDS - Conservative Dentistry & Endodontics  16 years experience   \n",
       "5                                           BDS, MDS  14 years experience   \n",
       "6         MBBS, Diploma in Otorhinolaryngology (DLO)  23 years experience   \n",
       "7                             BDS, MDS - Pedodontics   9 years experience   \n",
       "8  MD - Ayurveda Medicine, BAMS, Yoga Teachers Tr...  11 years experience   \n",
       "9                                               BHMS  44 years experience   \n",
       "\n",
       "  Rating                        Place           Profile  \\\n",
       "0    NaN       Ghatkopar East, Mumbai  General Medicine   \n",
       "1    NaN  West Marredpally, Hyderabad    ENT Specialist   \n",
       "2    70%            KK Nagar, Chennai    Dermatologists   \n",
       "3    NaN       New Ashok Nagar, Delhi          Ayurveda   \n",
       "4   100%    Kanakpura Road, Bangalore           Dentist   \n",
       "5    90%           Velachery, Chennai           Dentist   \n",
       "6    94%       Frazer Town, Bangalore    ENT Specialist   \n",
       "7    94%           Attapur, Hyderabad           Dentist   \n",
       "8    99%      Banashankari, Bangalore          Ayurveda   \n",
       "9    NaN      Mayur Vihar Ph-I, Delhi         Homeopath   \n",
       "\n",
       "                                  Miscellaneous_Info  \n",
       "0                                                NaN  \n",
       "1                                                NaN  \n",
       "2                   70% 4 Feedback KK Nagar, Chennai  \n",
       "3                                                NaN  \n",
       "4  General Dentistry Conservative Dentistry Cosme...  \n",
       "5  Acrylic Partial Denture Impaction / Impacted T...  \n",
       "6              94% 6 Feedback Frazer Town, Bangalore  \n",
       "7  RCT - Root Canal Treatment Ceramic Veneers / C...  \n",
       "8           99% 203 Feedback Banashankari, Bangalore  \n",
       "9                                                NaN  "
      ]
     },
     "execution_count": 3,
     "metadata": {},
     "output_type": "execute_result"
    }
   ],
   "source": [
    "test=pd.read_excel('C:/Users/ASUS/Desktop/PROJECT/csv files/Data-Science-ML-Capstone-Projects-master/Data-Science-ML-Capstone-Projects-master/Final Participant Data Folder/Final_Test.Xlsx')\n",
    "test.head(10)"
   ]
  },
  {
   "cell_type": "markdown",
   "metadata": {},
   "source": [
    "# Exploratory Data Analysis"
   ]
  },
  {
   "cell_type": "code",
   "execution_count": 4,
   "metadata": {},
   "outputs": [
    {
     "data": {
      "text/plain": [
       "Qualification            0\n",
       "Experience               0\n",
       "Rating                3302\n",
       "Place                   25\n",
       "Profile                  0\n",
       "Miscellaneous_Info    2620\n",
       "Fees                     0\n",
       "dtype: int64"
      ]
     },
     "execution_count": 4,
     "metadata": {},
     "output_type": "execute_result"
    }
   ],
   "source": [
    "train.isnull().sum()"
   ]
  },
  {
   "cell_type": "code",
   "execution_count": 5,
   "metadata": {},
   "outputs": [
    {
     "data": {
      "text/plain": [
       "Qualification            0\n",
       "Experience               0\n",
       "Rating                1090\n",
       "Place                    6\n",
       "Profile                  0\n",
       "Miscellaneous_Info     834\n",
       "dtype: int64"
      ]
     },
     "execution_count": 5,
     "metadata": {},
     "output_type": "execute_result"
    }
   ],
   "source": [
    "test.isnull().sum()"
   ]
  },
  {
   "cell_type": "code",
   "execution_count": 6,
   "metadata": {},
   "outputs": [],
   "source": [
    "# converting Experience column into Numeric\n",
    "train['Experience'] = train['Experience'].str.split().str[0]\n",
    "train['Experience'] = train['Experience'].astype(int)"
   ]
  },
  {
   "cell_type": "code",
   "execution_count": 7,
   "metadata": {},
   "outputs": [],
   "source": [
    "# Fill the missing Values in Rating column with -1% \n",
    "train['Rating'].fillna('-1%',inplace=True)"
   ]
  },
  {
   "cell_type": "code",
   "execution_count": 8,
   "metadata": {},
   "outputs": [],
   "source": [
    "# Filling Null Values\n",
    "train['Rating'] = train['Rating'].apply(lambda x: str(x).replace('%',''))"
   ]
  },
  {
   "cell_type": "code",
   "execution_count": 9,
   "metadata": {},
   "outputs": [],
   "source": [
    "train['Rating'] = train['Rating'].astype(int)"
   ]
  },
  {
   "cell_type": "code",
   "execution_count": 10,
   "metadata": {},
   "outputs": [
    {
     "name": "stdout",
     "output_type": "stream",
     "text": [
      "<class 'pandas.core.frame.DataFrame'>\n",
      "RangeIndex: 5961 entries, 0 to 5960\n",
      "Data columns (total 7 columns):\n",
      "Qualification         5961 non-null object\n",
      "Experience            5961 non-null int32\n",
      "Rating                5961 non-null int32\n",
      "Place                 5936 non-null object\n",
      "Profile               5961 non-null object\n",
      "Miscellaneous_Info    3341 non-null object\n",
      "Fees                  5961 non-null int64\n",
      "dtypes: int32(2), int64(1), object(4)\n",
      "memory usage: 279.5+ KB\n"
     ]
    }
   ],
   "source": [
    "train.info()"
   ]
  },
  {
   "cell_type": "code",
   "execution_count": 11,
   "metadata": {},
   "outputs": [
    {
     "data": {
      "text/html": [
       "<div>\n",
       "<style scoped>\n",
       "    .dataframe tbody tr th:only-of-type {\n",
       "        vertical-align: middle;\n",
       "    }\n",
       "\n",
       "    .dataframe tbody tr th {\n",
       "        vertical-align: top;\n",
       "    }\n",
       "\n",
       "    .dataframe thead th {\n",
       "        text-align: right;\n",
       "    }\n",
       "</style>\n",
       "<table border=\"1\" class=\"dataframe\">\n",
       "  <thead>\n",
       "    <tr style=\"text-align: right;\">\n",
       "      <th></th>\n",
       "      <th>Qualification</th>\n",
       "      <th>Experience</th>\n",
       "      <th>Rating</th>\n",
       "      <th>Place</th>\n",
       "      <th>Profile</th>\n",
       "      <th>Miscellaneous_Info</th>\n",
       "      <th>Fees</th>\n",
       "    </tr>\n",
       "  </thead>\n",
       "  <tbody>\n",
       "    <tr>\n",
       "      <th>0</th>\n",
       "      <td>BHMS, MD - Homeopathy</td>\n",
       "      <td>24</td>\n",
       "      <td>100</td>\n",
       "      <td>Kakkanad, Ernakulam</td>\n",
       "      <td>Homeopath</td>\n",
       "      <td>100% 16 Feedback Kakkanad, Ernakulam</td>\n",
       "      <td>100</td>\n",
       "    </tr>\n",
       "    <tr>\n",
       "      <th>1</th>\n",
       "      <td>BAMS, MD - Ayurveda Medicine</td>\n",
       "      <td>12</td>\n",
       "      <td>98</td>\n",
       "      <td>Whitefield, Bangalore</td>\n",
       "      <td>Ayurveda</td>\n",
       "      <td>98% 76 Feedback Whitefield, Bangalore</td>\n",
       "      <td>350</td>\n",
       "    </tr>\n",
       "    <tr>\n",
       "      <th>2</th>\n",
       "      <td>MBBS, MS - Otorhinolaryngology</td>\n",
       "      <td>9</td>\n",
       "      <td>-1</td>\n",
       "      <td>Mathikere - BEL, Bangalore</td>\n",
       "      <td>ENT Specialist</td>\n",
       "      <td>NaN</td>\n",
       "      <td>300</td>\n",
       "    </tr>\n",
       "    <tr>\n",
       "      <th>3</th>\n",
       "      <td>BSc - Zoology, BAMS</td>\n",
       "      <td>12</td>\n",
       "      <td>-1</td>\n",
       "      <td>Bannerghatta Road, Bangalore</td>\n",
       "      <td>Ayurveda</td>\n",
       "      <td>Bannerghatta Road, Bangalore ₹250 Available on...</td>\n",
       "      <td>250</td>\n",
       "    </tr>\n",
       "    <tr>\n",
       "      <th>4</th>\n",
       "      <td>BAMS</td>\n",
       "      <td>20</td>\n",
       "      <td>100</td>\n",
       "      <td>Keelkattalai, Chennai</td>\n",
       "      <td>Ayurveda</td>\n",
       "      <td>100% 4 Feedback Keelkattalai, Chennai</td>\n",
       "      <td>250</td>\n",
       "    </tr>\n",
       "  </tbody>\n",
       "</table>\n",
       "</div>"
      ],
      "text/plain": [
       "                    Qualification  Experience  Rating  \\\n",
       "0           BHMS, MD - Homeopathy          24     100   \n",
       "1    BAMS, MD - Ayurveda Medicine          12      98   \n",
       "2  MBBS, MS - Otorhinolaryngology           9      -1   \n",
       "3             BSc - Zoology, BAMS          12      -1   \n",
       "4                            BAMS          20     100   \n",
       "\n",
       "                          Place         Profile  \\\n",
       "0           Kakkanad, Ernakulam       Homeopath   \n",
       "1         Whitefield, Bangalore        Ayurveda   \n",
       "2    Mathikere - BEL, Bangalore  ENT Specialist   \n",
       "3  Bannerghatta Road, Bangalore        Ayurveda   \n",
       "4         Keelkattalai, Chennai        Ayurveda   \n",
       "\n",
       "                                  Miscellaneous_Info  Fees  \n",
       "0               100% 16 Feedback Kakkanad, Ernakulam   100  \n",
       "1              98% 76 Feedback Whitefield, Bangalore   350  \n",
       "2                                                NaN   300  \n",
       "3  Bannerghatta Road, Bangalore ₹250 Available on...   250  \n",
       "4              100% 4 Feedback Keelkattalai, Chennai   250  "
      ]
     },
     "execution_count": 11,
     "metadata": {},
     "output_type": "execute_result"
    }
   ],
   "source": [
    "train.head()"
   ]
  },
  {
   "cell_type": "code",
   "execution_count": 12,
   "metadata": {},
   "outputs": [],
   "source": [
    "# Replacing Null values with 'Unknown' \n",
    "train['Place'].fillna('Unknown,Unknown', inplace=True)\n",
    "\n",
    "train['locality'] = train['Place'].str.split(\",\").str[0]\n",
    "train['city'] = train['Place'].str.split(\",\").str[1]\n",
    "\n",
    "# Now we can drop the Place Column\n",
    "train.drop('Place',axis=1,inplace=True)"
   ]
  },
  {
   "cell_type": "code",
   "execution_count": 13,
   "metadata": {},
   "outputs": [
    {
     "data": {
      "text/html": [
       "<div>\n",
       "<style scoped>\n",
       "    .dataframe tbody tr th:only-of-type {\n",
       "        vertical-align: middle;\n",
       "    }\n",
       "\n",
       "    .dataframe tbody tr th {\n",
       "        vertical-align: top;\n",
       "    }\n",
       "\n",
       "    .dataframe thead th {\n",
       "        text-align: right;\n",
       "    }\n",
       "</style>\n",
       "<table border=\"1\" class=\"dataframe\">\n",
       "  <thead>\n",
       "    <tr style=\"text-align: right;\">\n",
       "      <th></th>\n",
       "      <th>Qualification</th>\n",
       "      <th>Experience</th>\n",
       "      <th>Rating</th>\n",
       "      <th>Profile</th>\n",
       "      <th>Miscellaneous_Info</th>\n",
       "      <th>Fees</th>\n",
       "      <th>locality</th>\n",
       "      <th>city</th>\n",
       "    </tr>\n",
       "  </thead>\n",
       "  <tbody>\n",
       "    <tr>\n",
       "      <th>0</th>\n",
       "      <td>BHMS, MD - Homeopathy</td>\n",
       "      <td>24</td>\n",
       "      <td>100</td>\n",
       "      <td>Homeopath</td>\n",
       "      <td>100% 16 Feedback Kakkanad, Ernakulam</td>\n",
       "      <td>100</td>\n",
       "      <td>Kakkanad</td>\n",
       "      <td>Ernakulam</td>\n",
       "    </tr>\n",
       "    <tr>\n",
       "      <th>1</th>\n",
       "      <td>BAMS, MD - Ayurveda Medicine</td>\n",
       "      <td>12</td>\n",
       "      <td>98</td>\n",
       "      <td>Ayurveda</td>\n",
       "      <td>98% 76 Feedback Whitefield, Bangalore</td>\n",
       "      <td>350</td>\n",
       "      <td>Whitefield</td>\n",
       "      <td>Bangalore</td>\n",
       "    </tr>\n",
       "    <tr>\n",
       "      <th>2</th>\n",
       "      <td>MBBS, MS - Otorhinolaryngology</td>\n",
       "      <td>9</td>\n",
       "      <td>-1</td>\n",
       "      <td>ENT Specialist</td>\n",
       "      <td>NaN</td>\n",
       "      <td>300</td>\n",
       "      <td>Mathikere - BEL</td>\n",
       "      <td>Bangalore</td>\n",
       "    </tr>\n",
       "    <tr>\n",
       "      <th>3</th>\n",
       "      <td>BSc - Zoology, BAMS</td>\n",
       "      <td>12</td>\n",
       "      <td>-1</td>\n",
       "      <td>Ayurveda</td>\n",
       "      <td>Bannerghatta Road, Bangalore ₹250 Available on...</td>\n",
       "      <td>250</td>\n",
       "      <td>Bannerghatta Road</td>\n",
       "      <td>Bangalore</td>\n",
       "    </tr>\n",
       "    <tr>\n",
       "      <th>4</th>\n",
       "      <td>BAMS</td>\n",
       "      <td>20</td>\n",
       "      <td>100</td>\n",
       "      <td>Ayurveda</td>\n",
       "      <td>100% 4 Feedback Keelkattalai, Chennai</td>\n",
       "      <td>250</td>\n",
       "      <td>Keelkattalai</td>\n",
       "      <td>Chennai</td>\n",
       "    </tr>\n",
       "  </tbody>\n",
       "</table>\n",
       "</div>"
      ],
      "text/plain": [
       "                    Qualification  Experience  Rating         Profile  \\\n",
       "0           BHMS, MD - Homeopathy          24     100       Homeopath   \n",
       "1    BAMS, MD - Ayurveda Medicine          12      98        Ayurveda   \n",
       "2  MBBS, MS - Otorhinolaryngology           9      -1  ENT Specialist   \n",
       "3             BSc - Zoology, BAMS          12      -1        Ayurveda   \n",
       "4                            BAMS          20     100        Ayurveda   \n",
       "\n",
       "                                  Miscellaneous_Info  Fees           locality  \\\n",
       "0               100% 16 Feedback Kakkanad, Ernakulam   100           Kakkanad   \n",
       "1              98% 76 Feedback Whitefield, Bangalore   350         Whitefield   \n",
       "2                                                NaN   300    Mathikere - BEL   \n",
       "3  Bannerghatta Road, Bangalore ₹250 Available on...   250  Bannerghatta Road   \n",
       "4              100% 4 Feedback Keelkattalai, Chennai   250       Keelkattalai   \n",
       "\n",
       "         city  \n",
       "0   Ernakulam  \n",
       "1   Bangalore  \n",
       "2   Bangalore  \n",
       "3   Bangalore  \n",
       "4     Chennai  "
      ]
     },
     "execution_count": 13,
     "metadata": {},
     "output_type": "execute_result"
    }
   ],
   "source": [
    "train.head()"
   ]
  },
  {
   "cell_type": "code",
   "execution_count": 14,
   "metadata": {},
   "outputs": [],
   "source": [
    " #bins takes 1 fewer value then labels\n",
    "bin = [-1,0,10,20,30,40,50,60,70,80,90,100]  \n",
    "lab = [i for i in range(11)]\n",
    "train['Rating'] = pd.cut(train['Rating'], bins=bin, labels=lab, include_lowest=True)"
   ]
  },
  {
   "cell_type": "code",
   "execution_count": 15,
   "metadata": {},
   "outputs": [
    {
     "data": {
      "text/html": [
       "<div>\n",
       "<style scoped>\n",
       "    .dataframe tbody tr th:only-of-type {\n",
       "        vertical-align: middle;\n",
       "    }\n",
       "\n",
       "    .dataframe tbody tr th {\n",
       "        vertical-align: top;\n",
       "    }\n",
       "\n",
       "    .dataframe thead th {\n",
       "        text-align: right;\n",
       "    }\n",
       "</style>\n",
       "<table border=\"1\" class=\"dataframe\">\n",
       "  <thead>\n",
       "    <tr style=\"text-align: right;\">\n",
       "      <th></th>\n",
       "      <th>Qualification</th>\n",
       "      <th>Experience</th>\n",
       "      <th>Rating</th>\n",
       "      <th>Profile</th>\n",
       "      <th>Miscellaneous_Info</th>\n",
       "      <th>Fees</th>\n",
       "      <th>locality</th>\n",
       "      <th>city</th>\n",
       "    </tr>\n",
       "  </thead>\n",
       "  <tbody>\n",
       "    <tr>\n",
       "      <th>0</th>\n",
       "      <td>BHMS, MD - Homeopathy</td>\n",
       "      <td>24</td>\n",
       "      <td>10</td>\n",
       "      <td>Homeopath</td>\n",
       "      <td>100% 16 Feedback Kakkanad, Ernakulam</td>\n",
       "      <td>100</td>\n",
       "      <td>Kakkanad</td>\n",
       "      <td>Ernakulam</td>\n",
       "    </tr>\n",
       "    <tr>\n",
       "      <th>1</th>\n",
       "      <td>BAMS, MD - Ayurveda Medicine</td>\n",
       "      <td>12</td>\n",
       "      <td>10</td>\n",
       "      <td>Ayurveda</td>\n",
       "      <td>98% 76 Feedback Whitefield, Bangalore</td>\n",
       "      <td>350</td>\n",
       "      <td>Whitefield</td>\n",
       "      <td>Bangalore</td>\n",
       "    </tr>\n",
       "    <tr>\n",
       "      <th>2</th>\n",
       "      <td>MBBS, MS - Otorhinolaryngology</td>\n",
       "      <td>9</td>\n",
       "      <td>0</td>\n",
       "      <td>ENT Specialist</td>\n",
       "      <td>NaN</td>\n",
       "      <td>300</td>\n",
       "      <td>Mathikere - BEL</td>\n",
       "      <td>Bangalore</td>\n",
       "    </tr>\n",
       "    <tr>\n",
       "      <th>3</th>\n",
       "      <td>BSc - Zoology, BAMS</td>\n",
       "      <td>12</td>\n",
       "      <td>0</td>\n",
       "      <td>Ayurveda</td>\n",
       "      <td>Bannerghatta Road, Bangalore ₹250 Available on...</td>\n",
       "      <td>250</td>\n",
       "      <td>Bannerghatta Road</td>\n",
       "      <td>Bangalore</td>\n",
       "    </tr>\n",
       "    <tr>\n",
       "      <th>4</th>\n",
       "      <td>BAMS</td>\n",
       "      <td>20</td>\n",
       "      <td>10</td>\n",
       "      <td>Ayurveda</td>\n",
       "      <td>100% 4 Feedback Keelkattalai, Chennai</td>\n",
       "      <td>250</td>\n",
       "      <td>Keelkattalai</td>\n",
       "      <td>Chennai</td>\n",
       "    </tr>\n",
       "  </tbody>\n",
       "</table>\n",
       "</div>"
      ],
      "text/plain": [
       "                    Qualification  Experience Rating         Profile  \\\n",
       "0           BHMS, MD - Homeopathy          24     10       Homeopath   \n",
       "1    BAMS, MD - Ayurveda Medicine          12     10        Ayurveda   \n",
       "2  MBBS, MS - Otorhinolaryngology           9      0  ENT Specialist   \n",
       "3             BSc - Zoology, BAMS          12      0        Ayurveda   \n",
       "4                            BAMS          20     10        Ayurveda   \n",
       "\n",
       "                                  Miscellaneous_Info  Fees           locality  \\\n",
       "0               100% 16 Feedback Kakkanad, Ernakulam   100           Kakkanad   \n",
       "1              98% 76 Feedback Whitefield, Bangalore   350         Whitefield   \n",
       "2                                                NaN   300    Mathikere - BEL   \n",
       "3  Bannerghatta Road, Bangalore ₹250 Available on...   250  Bannerghatta Road   \n",
       "4              100% 4 Feedback Keelkattalai, Chennai   250       Keelkattalai   \n",
       "\n",
       "         city  \n",
       "0   Ernakulam  \n",
       "1   Bangalore  \n",
       "2   Bangalore  \n",
       "3   Bangalore  \n",
       "4     Chennai  "
      ]
     },
     "execution_count": 15,
     "metadata": {},
     "output_type": "execute_result"
    }
   ],
   "source": [
    "train.head()"
   ]
  },
  {
   "cell_type": "code",
   "execution_count": 16,
   "metadata": {},
   "outputs": [
    {
     "name": "stdout",
     "output_type": "stream",
     "text": [
      "{'BHMS': 749, 'MD - Homeopathy': 181, 'BAMS': 764, 'MD - Ayurveda Medicine': 139, 'MBBS': 2808, 'MS - Otorhinolaryngology': 103, 'BSc - Zoology': 3, 'BDS': 1363, 'MD - General Medicine': 285, 'BSc': 3, 'MS': 2, 'DNB - ENT': 111, 'MDS': 82, 'MDS - Oral & Maxillofacial Surgery': 104, 'Diploma in Otorhinolaryngology (DLO)': 250, 'MF- Homeopathy': 5, 'MS - ENT': 411, 'DNB': 58, 'Fellowship of College of General Practice (FCGP)': 13, 'DDVL': 161, 'IBCLC (USA)': 1, 'Post Graduate Diploma in Diabetology (PGDD)': 53, 'Diploma in Dermatology': 67, 'Fellowship in Aesthetic Medicine': 23, 'DM - Neurology': 6, 'MD - Pediatrics': 13, 'Fellowship in Cleft Lip and Craniofacial Surgery': 1, 'Diploma in Cosmetology': 3, 'AFIH': 4, 'MDS - Prosthodontist And Crown Bridge': 45, 'M. D. Hom. (Practice of Medicine)': 2, 'Diploma in Emergency Medicine': 8, 'Diploma in Counselling Skills': 2, 'DHMS (Diploma in Homeopathic Medicine and Surgery)': 47, 'MD - Dermatology': 606, 'Venereology & Leprosy': 297, 'MDS - Oral and Maxillofacial Pathology': 1, 'MFDS RCS': 4, 'MRCS (UK)': 15, 'FRGUHS': 22, 'Fellowship in Dermatological Laser Surgery': 10, 'Member of the Royal College of Physicians': 4, 'UK (MRCP UK)': 4, 'MNAMS- Family Medicine': 1, 'MD - Medicine': 72, 'MS - Psychology': 15, 'Diploma In Skin Aesthetics': 4, 'MDS - Periodontology and Oral Implantology': 47, 'Certificate in Cosmetic Dentistry': 8, 'Post Graduate Certificate in Endodontics (PGCE)': 6, 'Fellow of Academy of General Education (FAGE)': 23, 'MD - Rheumatology': 2, 'MDS - Paedodontics And Preventive Dentistry': 47, 'MDS-Oral Pathology and Oral Microbiology': 10, 'FRCP': 15, 'Doctor of Science (DSc.)': 1, 'D.LITT - Diabetology': 1, 'DDV': 129, 'MDS - Conservative Dentistry & Endodontics': 107, 'FICD': 4, 'Post Graduate Diploma in Emergency Services (PGDEMS)': 10, 'Get inspired by remarkable stories of people like you': 24, 'MD - Acupuncture': 6, 'Master of Hospital Administration': 3, 'BA': 1, 'MDS - Periodontics': 46, 'PGD in Endodontics': 1, 'MDS - Pedodontics': 30, 'PhD - Orthodontics & Dentofacial Orthopaedics': 26, 'MOrth': 2, 'MS - Ayurveda': 29, 'MRCPS': 5, 'P.G Diploma in Aesthetic Dentistry': 1, 'MD - Tuberculosis & Respiratory Diseases/Medicine': 3, 'MS - General Surgery': 40, 'Diploma in Health Administration': 9, 'MD - Skin & VD': 27, 'FAMS - Fellowship of the Academy Medicine': 3, 'MD - Internal Medicine': 71, 'DNB - Internal Medicine': 12, 'FRCS - General Surgery': 11, 'PhD - Homoeopathy': 2, 'Certificate in Dental Implants': 32, 'MDS - Orthodontics and Dentofacial Orthopaedics': 44, 'DNB - Family Medicine': 10, 'MS - Pediatric': 1, 'Member of the Royal Society for the Promotion of Health (UK) (MRSH)': 3, 'Post Graduate Diploma in Endocrinology': 5, 'MDS - Prosthodontics': 74, 'M.Sc.- Clinical Nutrition and Dietetics': 1, 'MSc - Psychotherapy And Counselling': 5, 'MS (Shalyatantra)': 1, 'MSc - Yoga': 4, 'DLO': 17, 'Post Graduate Diploma in Advanced Implantology': 1, 'MD - Alternate Medicine': 19, 'Post Graduate Diploma in Counselling & Psychotherapy': 1, 'MS - Counselling & Psychotherapy': 3, 'PhD - Alternative Medicine': 1, 'Fellowship in Oral implantlogy': 16, 'Diploma in Personal Counselling Skills (DPCS)': 1, 'DNB - Dermatology': 11, 'GCEH': 2, 'Certification in Personal Counsling': 1, 'Post Graduate Diploma in Healthcare Management(PGDHM)': 6, 'Fellowship in Lasers & Cosmetology': 2, 'Fellowship In Anti-Aging And Aesthetic Medicine': 2, 'Diploma in Practical Dermatology': 5, 'Fellow Hair Transplant Surgery': 4, 'Fellowship in Lasers & Advanced Dermatology': 1, 'DNB - Paediatrics': 4, 'MRCPCH (UK)': 3, 'MDS - Oral Medicine and Radiology': 26, 'Diploma in Obesity managemnt': 1, 'Certificate Course In Therapeutic Yoga': 1, 'DNB - Nephrology': 4, 'Certification in Aesthetic Dentistry': 10, 'MRCP': 1, 'Fellowship In Laryngology Bronchoesophagology': 3, 'FAGE': 4, 'Diploma in Medical Radio-Diagnosis': 4, 'Certification in Full Mouth Rehabilitation': 6, 'Diploma in Acupuncture': 9, 'Diploma in Naturopathy & Yogic Science (DNYS)': 3, 'Fellowship in Minimal Access Surgery': 3, 'DGO': 17, 'Diplomate in Oral Implantology': 2, 'Masters in Oral Implantology': 1, 'Implant Externship Program': 2, 'Fellowship in Implantology': 6, 'M.S. (Ayurved) Stri Roga & Prasuti Tantra': 1, 'MS - Ayurvedic Gynecology & Obstetrics': 2, 'MD - Pathology': 3, 'Fellowship in Rheumatology': 4, 'MBA': 7, 'D.Y.A': 6, 'DVD': 46, 'Diploma in Public Health': 3, 'PhD- Ayurveda': 13, 'DM - Critical Care Medicine': 1, 'Post Graduate Course in Diabetology': 7, 'DNB - Otorhinolaryngology': 45, 'BSAM': 7, 'Certificate Course in Sports and Fitness Nutrition': 2, 'Diploma in Advanced Skin and Hair Treatments': 1, 'Doctor of Medicine (Alternate Medicine)': 2, 'Certificate in Cosmetology': 2, 'MD - Skin': 13, 'VD & Leprosy': 13, 'MDS - Public Health Dentistry': 5, 'Post Graduate Diploma In Yoga': 5, 'Diploma in ENT': 3, 'MA': 2, 'DNHE': 9, 'Diploma in Endoscopy': 1, 'Diploma in Anesthesiology': 7, 'MRCGP': 8, 'MDS - Orthodontics': 68, 'MD - Microbiology': 3, 'Post-Graduate Certificate in Oral Implantology (PGCOI)': 12, 'DO': 4, 'Diploma in Naturopathy & Yoga (NDDY)': 4, 'DNB - Dermatology & Venereology': 88, 'Diploma in Dermatology & Venerology': 5, 'DPM (Psychiatry)': 3, 'M.D. (Psychiatry)': 6, 'MD - Pharmacology': 6, 'Diploma in Diabetology': 3, 'Fellowship in Diabetology(Royal Liverpool University Hospital': 1, 'UK)': 8, 'Diploma in Family Medicine (DFM)': 8, 'Post Graduate Diploma in Clinical Research (PGDCR)': 8, 'F.A.G.E': 1, 'Diploma In Clinical Panchakarma': 1, 'Diploma in Child Health (DCH)': 20, 'DNB - Pediatrics': 2, 'DAA - Diploma in Allergy Asthma and Immunology': 3, 'MS - Endocrinology & Diabetes': 1, 'DM - Cardiology': 11, 'FNB - Infectious Disease': 1, 'DNB - General Medicine': 38, 'Diploma in Tuberculosis and Chest Diseases (DTCD)': 8, 'Division of Clinical Psychology (DCP)': 2, 'MSc - Master of Oral Implantology (MOI)': 4, 'MD - Oncology': 1, 'FCPS - Dermatology': 13, 'Certificate in Child Health (CCH)': 19, 'Masters in Counselling and Psychotherapy': 2, 'Diploma in Rheumatology': 1, 'MCP(UCLA-USA)': 1, 'PhD - Neuropsychology': 1, 'Fellowship in ENT': 1, 'Diploma In Naturopathy (ND)': 6, 'PG Diploma in Sexual Medicine': 1, 'Diploma in Medical Law and Ethics (PGDMLE)': 2, 'MRCP (UK)': 21, 'MBA (Health Care)': 2, 'Diplomate of American board of hair restoration surgery': 1, 'Post Graduate Diploma in Diabetes': 1, 'MNAMS - Plastic Surgery': 1, 'Certified in Hair Transplantation': 2, 'PG Diploma In Clinical Cosmetology (PGDCC)': 13, 'DORL (ENT)': 5, 'IDCC (ISCCM)': 1, 'MD - Family Medicine': 4, 'Master of Public Health (MPH)': 4, 'Diploma in Cardiology': 5, 'Fellowship In Cosmetic Dermatology': 7, 'MD - Anaesthesiology': 6, 'Ayurvedic panchkarma': 3, 'Post Graduate Diploma in Dermotology (PGDD)': 1, 'Certificate of Oral Implantology': 14, 'Certification in Laser Dentistry': 6, \"Dip' NMD\": 1, 'PGMHA': 2, 'Diploma in Hospital Management': 5, 'Certificate Course in Management of Thyroid Disorder': 4, 'Fellowship in Diabetology(Boston School of Medicine': 1, 'USA)': 3, 'PGDHHM': 6, 'Post Graduate Diploma in Hospital & Healthcare Management': 5, 'FCSI': 1, 'FSCAI': 3, 'Master of Clinical Dentistry': 1, 'Certified In Panchkarma': 3, 'Certification In Yoga': 2, 'Paanchabhautic Ayurveda Certificate': 1, 'Diploma in Traditional Chinese Medicine': 1, 'Diploma of Clinical Hypnotherapy': 1, 'Fellowship in Diabetology': 26, 'Diploma in Laser Dentistry': 3, 'Diploma in Preventive & Promotive Healthcare': 2, 'Integrated Clinical Hypnotherapy': 2, 'Master of Oral Laser Applications': 1, 'MSc - Psychology': 3, 'Post Graduate Diploma in Family Medicine (PGDFM)': 1, 'MD - Ayurvedic Pharmacology': 2, 'Certificate Endodontics & Pedodontics': 2, 'Certified Inman Aligner': 1, '39 years experience': 1, 'Cert. (Prosthodontics)': 1, 'MD - Ayurvedic Obstetrics and Gynecology': 1, 'Diploma in Hospital Administration': 7, 'MCh - Urology': 4, 'DNB - Urology/Genito - Urinary Surgery': 3, 'FRCP - Endocrinology': 1, 'LCEH': 16, 'Nutrition Certification': 4, 'Doctor of Homeopathic Medicine (HMD)': 5, 'Diploma in Implant Dentistry': 2, 'Fellowship in Cosmetology': 8, 'MD - Community Medicine': 4, 'P.G.Hom.(London)': 1, 'fellowship in medical cosmetology': 1, 'germany': 1, 'Certified Advance Course In Endodontics': 5, 'Diplomate of National Board Exam': 1, 'Diploma in Implanthology': 6, 'ECFMG (USA)': 2, 'Fellowship In Dermatosurgery': 6, 'Fellowship in Pediatric Dermatology': 5, 'CGO': 25, 'Diploma in Trichology - Cosmetology': 7, 'Diploma in Weight Loss': 1, 'EducationDiploma in Naturopathy and Yoga': 1, 'P.G Diploma in Diabetes Management': 1, 'Post Graduate Diploma in Maternity and Child Health (PGDMCH)': 5, 'Fellowship SIB': 1, 'DAA': 3, 'DNB - Peripheral Vascular Surgery': 1, 'FRACS': 1, 'Diploma in Aesthetic Medicine': 4, 'MCIP': 2, 'PGDCFS': 1, 'PGDFOS': 1, 'Diploma in Journalism': 1, 'MD - Homoeopathic Philosophy': 2, 'MS - Counselling and Psychotherapy': 7, 'MCh - Oncology': 1, 'MNAMS - General Surgery': 3, 'Diploma in Geriatric Medicine': 2, 'M C P S': 1, 'Fellowship In Infectious Disease': 1, 'M Derm': 1, 'FCAH (Fellow ship course in Advance Homoepath)': 3, 'MD - Pulmonary Medicine': 3, 'BPTh/BPT': 1, 'PGNAHI': 2, 'CSD': 3, 'MSc': 6, 'PG in Diabetology': 7, 'FCPS Skin & VD': 3, 'M. D. IN KAYACHIKISTA': 2, 'Diploma in Psychiatry': 1, 'Diploma in Panchkarma Chikitsa': 1, 'Fellowship and Diplomate in Implantology from ICOI (USA)': 9, 'MCh - Plastic Surgery': 2, 'Fellowship in Cleft Lip & Palate': 1, 'MD - Diabetology': 6, 'Post Doctoral Fellowship in Diabetology': 1, 'MD - Cardiology': 5, 'MBA (HCS)': 3, 'FFDRCSI': 3, 'Fellowship in Applied Nutrition(FAN)': 2, 'PhD - Clinical Neuroscience (Pediatrics)': 1, 'Professional Diploma in Clinical Research (PDCR)': 1, 'FICOI': 8, 'MD - Physician': 23, 'BNYS': 1, 'Advanced Certificate Course in Aesthetic Dentistry': 3, 'Professional Implantology Training Course (PITC)': 2, 'FAGE- FELLOW': 1, 'Comprehensive Course in Modern Endodontics': 2, 'Indian Diploma Critical Care Medicine (IDCCM)': 3, 'Fellowship in Aesthetic Dentistry (FAD)': 3, 'Fellowship in Rhinology and Endoscopic Skull Base Surgery': 1, 'Fellowship in Otology and Neurotology': 1, 'Fellow of International Congress of Oral Implantologist': 2, 'Post MD SR AIIMS': 2, 'Fellowship in Head & Neck Oncology Surgery': 9, 'Certificate in Dental Implantology': 1, 'Certificate in Orthodontics': 1, 'Bachelor of Chiropractic': 1, 'Diploma in Venereology': 3, 'Certificate in Invisible Braces': 3, 'Certification in Clear Aligners': 2, 'Certification in “Preventing Chronic Pain: A Human Systems Approach”': 1, 'Certification in “Vital Signs: Understanding What the Body Is Telling Us”': 1, 'Diploma in Medical Trichology': 1, 'B.Sc': 12, 'MBA - Healthcare Administration': 1, 'MRCPsych': 1, 'Diploma in Medical Cosmetology and Aesthetic Medicine': 1, 'PG Diploma In Health & Hospital Management': 2, 'PG DIPLOMA IN MEDICAL TOURISM': 1, 'Fellowship in LASERs & Aesthetics': 2, 'Diploma in Orthopaedics': 3, 'DNB - General Surgery': 4, 'MS - Paediatrics Surgery': 1, 'DNB - Pediatric Surgery': 1, 'One Year Certificate course in Hospital Management': 1, 'Certified Course in Yoga': 3, 'DICOI': 3, 'MBA - Hospital Management': 5, 'G.A.M.S': 3, 'MS - Ophthalmology': 3, 'Fellowship in Implant and Esthetic Dentistry': 2, 'AOC in Aesthetic Dentistry': 1, 'PGDE (Cosmetic & Esthetic Dentist)': 3, 'Invisalign Training Course': 4, 'Post Graduate Diploma in Clinical Nutrition & Dietetics': 1, 'Masters Diploma in Acupressure': 2, 'MDS- Oral Pathology': 6, 'Fellowship in Breast Surgery': 1, 'Fellowship in Non-Invasive Cardiology (FIC)': 4, 'MAMS': 3, 'FCPS - Mid. & Gynae': 3, 'CVD': 2, 'Diploma in Clinical Nutrition': 1, 'MS - Ayurvedic General Surgery': 1, 'MD - Yoga and Rehab': 2, 'Certification in Infectious Diseases': 1, 'Diploma in Tropical Medicine Health': 2, 'Fellowship in Skull Base Surgery': 2, 'TFO (USA)': 1, 'PG in Diabetology (USA)': 3, 'MDS - Orthodontics and Orofacial Orthopaedics': 3, 'M.Med in Family Medicine': 1, 'DIACH(Greece)': 1, 'Certificate Course in Advanced Homoeopathy (C.C.A.H)': 6, 'FCCM': 4, 'FCCP - Pulmonary Medicine': 6, 'Diploma of the Faculty of Family Planning (DFFP)': 2, 'Diploma in Sports Therapy': 1, 'Post graduate diploma in Hospital Management': 2, 'Certification for Professional Chemical Peel Workshop': 1, 'Certificate in Aesthetic Medicine': 2, 'BUMS': 1, 'Masters in Clinical Dermatology': 6, 'PGCC - Rheumatology': 1, 'MD - Opthalmology': 1, 'MD - Kayachikitsalaya': 1, 'MS - Implantolgy': 1, 'Implantology ICOI(USA)': 1, 'Diploma in Diet and Nutrition': 7, 'PGDHA': 2, 'Certificate Course in Tuberculosis & Chest Diseases': 1, 'Advanced Training Program in Diabetes Care': 1, 'PhD in Liberal Studies in Diabetology (Trinity College)': 1, 'CCEDM': 3, 'CCMTD': 3, 'CCDR': 1, 'MDS - Implantology': 1, 'MD - Obstetrics & Gynaecology': 8, 'MD-DVL': 3, 'Diploma in Beauty Therapy': 1, 'Certificate Course In Cosmetic Dermatology & Lasers': 2, 'PG Diploma in Trichology': 2, 'Certificate in Botox': 1, 'Fillers': 1, 'Threadlifts': 1, 'Advanced Certification in Clinical Diabetology': 2, 'SCE Dermatology (RCP': 1, 'Post Graduate Diploma in Orthodontics': 4, 'CCD (Diabetology)': 1, 'MCh - Cardio Thoracic and Vascular Surgery': 1, 'DM - Gastroenterology': 5, 'FCPS - General Surgery': 3, 'DM - Rheumatology': 1, 'Fellowship in Dermatology': 2, 'Training in Facial Aesthetics': 1, 'Certificate in Health Management': 1, 'MD - Homeopathy Psychiatry': 2, 'PGCAD': 1, 'MRCP (Paed)': 1, 'Diplomate American Academy of Aesthetic Medicne': 1, 'MS - Urology': 1, 'MCh - Urology/Genito-Urinary Surgery': 1, 'PG Diploma In Emergency Trauma Care': 2, 'Post Graduate Diploma in Diabetology (PGDD)(Middlesex University': 1, 'Fellowship in Orthopaedic Rehabilitation (FOR)': 1, 'MIDA': 1, 'Certificate Course in Dental Lasers': 1, 'Certificate Course in Implantology': 3, 'DM - Endocrinology': 3, 'PGCR': 2, 'Diploma in Diabetes/Endocrinology (Middlesex University)': 1, 'MD - Paediatrics': 2, 'MD - (Dermatology & STD)': 2, 'Diploma in Clinical Pathology': 1, 'PG Diploma in Preventive and Promotive Health Care (PGD PPHC)': 1, 'Fellowship in Medical Cosmetology (FMC)': 2, 'MDS - Endodontics': 4, 'MCh - Neuro Surgery': 2, 'Fellowship in Cosmetic Surgery': 2, 'DNB - Ophthalmology': 3, 'Fellowship in Vitreo-Retina': 1, 'MS - Orthopaedics': 4, 'MNAMS (Membership of the National Academy)': 5, 'Post Graduate Diploma in Medicological Systems (PGDMS)': 2, 'Fellow of the Royal Australasian College of Surgeons': 1, 'FRACS (General Surgery)': 1, 'Fellowship in Ayurvedic Medicine': 1, 'DM - Oncology': 2, 'DHMS': 3, 'Fellowship in Endocrinology': 2, 'Diabetes & Metabolism': 2, 'Fellow of American College of Endocrinology(FACE)': 1, 'PG Diploma in Child Health': 1, 'POST GRADUATE IN HOMOEOPATHY': 1, 'Certified in Orthodontics': 2, 'Certified BPS Dentist': 3, 'Fellowship in Advanced Endoscopic Sinus Surgery': 3, 'Degree in Dental Implant': 1, 'Advanced Endotontic Course On Root Canal': 2, 'Master In Counselling Psychology': 1, 'Diploma in Diabetology (Mumbai University)': 1, 'D.Sc': 2, 'Certification Course In Diabetes': 2, 'Fellowship in Clinical Cardiology': 1, 'Post Graduate Certificate in Advanced Oral Implantology': 3, 'Ph.D Panchakarma': 1, 'M.Ch': 3, 'FICS': 3, 'FRCS': 3, 'PG Diploma in Panchakarma': 1, 'F.C.I.P': 1, 'MDS - Oral & Maxillofacial Pathology and Microbiology': 1, 'M.Ch - Orthopaedics': 2, 'Fellowship in Joint Replacement': 2, 'Fellowship in Diabetology(Royal Liverpool Academy': 2, 'FCD - Diabetology': 5, 'PhD - Microbiology': 1, 'DEMS': 2, 'Member of Royal College of Emergency Medicine(MRCEM)': 1, 'Masters in Emergency Medicine': 1, 'International Certificate in Implant Dentistry': 1, 'Current Concepts in American Dentistry Advances in Implantology and Oral Rehabilitation': 2, 'MSc - Forensic Odontology': 2, 'MBA - Hospital Administration': 1, 'MCh - Surgical Gastroenterology/G.I. Surgery': 2, 'DNB - Infectious Disease': 1, 'PGDMLS': 4, 'MBA - HealthCare Management': 2, 'M.H.Sc-Diabetology': 3, 'CCEBDM': 3, 'Certificate Course in Nutrition and Dietetics': 1, 'PhD - Acupuncture': 2, 'BEMS': 5, 'Fellowship in Gastroenterology': 2, 'DNB - Oral & Maxillofacial Surgery': 1, 'MD- Dravya Guna': 3, 'Fellow of Advanced Micro ear Surgery': 1, 'MDS- Periodontist & Implantalogist': 1, 'Fellowship in Head & Neck Surgery': 2, 'Fellowship Training in Intensive Care Medicine': 1, 'Fellow of Indian College of Cardiology (FICC)': 1, 'MD - Anatomy': 2, 'Fellowship in Child and Adolescent Psychiatry': 1, 'Post Graduate Diploma in Periodontics and Implantology': 1, 'Fellowship Program in Forensic Odontology': 1, 'Fellowship In Phonosurgery': 2, 'MA - Psychology': 2, 'Post Graduate Course in Rheumatology': 1, 'MD - Venereology': 1, 'MD - Repertory': 1, 'DNB - Obstetrics & Gynecology': 2, 'Postgraduate Diploma Clinical Cardiology (PGDCC)': 6, 'Fellowship in Cardiac Rehabilitation': 2, 'Certificate Course in Oral Implantology': 1, 'MPH': 4, 'Post Graduate Diploma in Holistic Healthcare': 1, 'Graduate Diploma in Family Medicine': 1, 'Singapore': 1, 'D.Ortho Fellow Arthroscopy & Arthroplasty(AUST)': 1, 'DNB - Orthopedics/Orthopedic Surgery': 3, 'MNAMS - DERMATOLOGY': 1, 'Basic Life Support (BLS)': 3, 'ACLS': 1, 'Advanced Trauma Life Support (ATLS)': 2, 'Diploma In Pharmacy': 3, 'Advance Diploma in Nutrition and Dietetics': 2, 'Certificate in Yoga & Meditation': 1, 'DM - Nephrology': 4, 'Diploma in Nutrition and Health Education': 1, 'MSc - Clinical Dermatology': 4, 'Advanced Certificate in Endodontics and Esthetics': 1, 'Advanced Certificate Course in Dental Implants': 2, 'B.Ac': 1, 'FACC': 1, 'Certificate Course in Positive Psychology': 1, 'Clinical Nutritionist certifcate': 1, 'M.Sc - Counselling and Family Therapy': 1, 'D. Dermatology (Ay.)': 1, 'Master of Family Medicine': 2, 'MS - Obstetrics & Gynaecology': 2, 'MDS- Root Canal Specialist': 1, 'FCPS (ENT)': 1, 'Certificate in Implantology': 1, 'FCPS - Oto-Rhino-Laryngology': 5, 'Certificate in Medical Cosmetology and Aesthetics': 1, 'MCh - Head and Neck Oncology': 4, 'DDVCPS': 1, 'Diploma in Medical Cosmetology': 4, 'FNB - Critical Care Medicine': 1, 'European Diploma in Intensive Care Medicine (EDIC)': 1, 'CCST - Internal Medicine': 1, 'CCST - Diabetes & Endocrinology': 2, 'M.D. (E.H)': 1, 'MDS - Preventive & Community Dentistry': 1, 'Diploma in Homoeopathy and Biochemistry': 1, 'Diploma in Hair Restoration Surgery': 2, 'Fellowship In Pediatric Otolaryngology': 2, 'Fellowship in Diabetology(The University of Liverpool': 1, 'Diploma in Industrial Hygiene': 2, 'Diploma in Educational Psychology': 1, 'Certificate in Food and Nutrition': 3, 'Diploma in Clinical Dermatology (UK)': 1, 'F.S.R.H': 1, 'FCPS - Medicine': 2, 'MD - Nephrology': 1, 'MCh - Surgical Oncology': 2, 'Diploma in Gynaecology & Obstetrics': 1, 'Fellow of the American Academy of Dermatology (FAAD)': 4, 'MDS - Prosthodontist & Oral Implantologist': 4, 'MD - Homeo Organon': 2, 'MFGDP - Membership of the Faculty of General Dental Practitioners': 1, 'Membership of the Faculty of Dental Surgeons(MFDS)': 1, 'DNB - Respiratory Diseases': 2, 'BIMS': 1, 'MCPS': 2, 'Certificate in Sports Nutrition': 1, 'Post Graduate Diploma in Medical Cosmetology (PGDMC)': 2, 'Certificate in Pediatric Otolaryngology - Head and Neck Surgery': 1, 'Diploma in Aesthetic Dermatology': 1, 'MD - Infectious Diseases': 1, 'Certificate Course of One Year in Dental Implants': 1, 'Certificate Course in Advance Implantology': 1, 'Certificate Course in Evidence Based Diabetes Management (CCEBDM)': 4, 'Certificate Course in Gestational Diabetes (CCGDM)': 3, 'MD - Physical Medicine & Rehabilitation': 1, 'Diploma in Physical Medicine & Rehabilitation': 1, 'Fellowship in Diabetology & Endocrinology': 1, 'CCT - Endocrinology and Diabetes Mellitus': 1, 'Certified Sinus lift surgeon': 1, 'Diploma in Skin Polishing Technology': 1, 'Diploma in Slimming & Laser Treatments': 1, 'Certificate in Clinical Cosmetology': 1, 'PCAD (USA)': 1, 'MD - Acupressure': 2, 'PhD - Diabetes': 1, 'Fellowship in Medical Cosmetology': 2, 'Diploma in Cosmetic Dentistry': 1, 'FRCS - Otolaryngology': 5, 'DNB - Cardiology': 2, 'Distance Fellowship in Diabetes Management': 1, 'MBA - Healthcare Services': 1, 'Post Graduate Diploma in Diabetology (PGDD)(Johns Hopkins University School of Medicine': 1, 'Fellowship in Diabetology(Johns Hopkins University School of Medicine': 1, 'DMD - Doctor of Dental Medicine': 1, 'Post Graduate Diploma in Diabetology (PGDD)(Cardiff University': 1, 'ACDMC': 1, 'Diploma in Acupressure Therapy': 1, 'Advanced Certificate Course In Diabetes': 4, 'Post graduate certificate In sports Medicine': 1, 'Clinical Cardiology Certification': 1, 'FDS Surgical Oral Oncology': 1, 'Diploma in Ultra Sonology': 1, 'MD (HOM) - Paeditrics': 1, 'Clinical Fellowship in Rhinology': 1, 'MD - Ophthalmology': 1, 'MDS - Oral Pathalogy & Microbiology': 1, 'LLB': 2, 'Fellow in Dermato - Surgery': 1, 'Advance Fellowship in Laser & Dermatosurgery': 1, 'PhD - Psychology': 1, 'MD - Tuberculosis & Respiratory Diseases / Pulmonary Medicine': 2, 'MDS - Oral Medicine': 4, 'PG Certificate Course In Diabetes Education(PGDCE)': 3, 'PGD Yoga': 1, 'MA (Yoga Shastra)': 1, 'Diploma in Yoga Shikshaka': 1, \"Yoga Instructor's Course\": 4, 'D.H.M': 1, 'MD - Physiology': 1, 'F.A.M': 1, 'Fellowship in laryngology': 1, 'Ph. D - ENT': 1, 'Certificate in Laser and Dermatology': 1, 'Diploma in Skin & Vinereal Disease': 1, 'Diploma of Nutrition & Diet Planning': 2, 'Diploma in Diabetes': 3, 'PG - Echocardiography': 1, 'DM - Pulmonary Medicine & Critical Care Medicine': 1, 'European Diploma in Respiratory Medicine': 1, 'Post Graduate Diploma in Diabetic Education': 1, 'Weight Management Consultant Certificate': 1, 'Fellowship (Endoscopic Sinus Surgery)': 1, 'MD - TB & Chest': 1, 'FRACP (Rheumatology)': 2, 'F.C.P.S (Dermatology)': 1, 'Post Graduate Diploma in Health Sciences (PGDHSc)': 1, 'Master of Health Sciences (MHSc)': 3, 'M. SC in YOGA': 1, 'Diploma in Naturopathy & Yogic Science (DNYT)': 1, 'DYSc.': 1, 'Post Graduate in Clinical Psychology': 1, 'Certificate Course in Panchakarma': 2, 'Certificate Course in Nadi Sutra': 1, 'Post Graduate Certificate In Hiv And Std Manegement': 1, 'Fellow Indian Academy Of Clinical Medicine': 1, 'Advance Course In Osteoporosis': 1, 'EULAR certificate for Rheumatic Diseases': 1, 'MD - Radio Diagnosis/Radiology': 1, 'CCT - Dermatology': 1, 'Diploma in ABLS (USA)': 1, 'FPFA': 1, 'MDS - Preventive and Public Health Dentistry': 2, 'Certificate course in Reiki': 1, 'Certificate in Nutrition and Health in Hospitalized': 1, 'Certificate in Guidance and Counselling': 1, 'Post graduate diploma in Health Management': 1, 'PGDPC (Post Graduation Diploma In Psychological Counselling)': 3, 'MD - Transfusion Medicine': 1, 'MD - Bio-Chemistry': 1, 'PGD ND': 1, 'MBS (H)': 1, 'FIAMS': 2, 'Certified in Pedodontics': 1, 'FICS - ENT': 1, 'FRHS': 1, 'M.Sc - Biochemistry': 1, 'Fellow of the Royal College of Surgeons of Ireland': 1, 'Fundamental in Oral Implantology': 1, 'Doctorate of Medicine in Electro Homoeopathy(MDEH)': 1, 'D.D': 1, 'FCCS': 3, 'DSM ( Siddha Medicine)': 1, 'D.Ac': 1, 'MD - Social & Preventive Medicine / Community Medicine': 1, 'PGCE(Endodontics)': 1, 'MS - Ayurvedic Ophthalmology': 1, 'MNAMS - Nephrology': 1, 'DAFPRS Fellowship in Aesthetic Surgery': 1, 'Fellowship in Pediatric Endocrinology': 1, 'Diploma in Urology': 1, 'FRCPCH': 1, 'M Phil Psychology': 1, 'PDCC - Hand': 1, 'PG in Laser Dentistry': 1, 'Diploma in Obesity & Pain management': 1, 'Post Graduate Diploma in Health': 1, 'Family Welfare and Population': 1, 'DIH': 1, 'Doctor of Medicine': 2, 'M.D. Panchakarma': 1, 'M.Sc. Yoga and Naturopathy': 1, 'Certificate in Botox and Fillers': 1, 'MD - Pain Management': 1, 'FICA': 2, 'Diploma in Dietetics': 1, 'Health and Nutrition (DDHN)': 1, 'DVL': 2, 'Diplomate in Neuromuscular Functional Orthodontics And Gathology': 1, 'FIMSA': 2, 'MSc - Physiology': 1, 'PG Diploma Clinical Research': 1, 'Diploma in Dietetics & Public Health Nutrition (DDPHN)': 1, 'Robert Turner Diabetes Research Training': 1, 'WHO/IDF/EASD Cambridge Diabetes Training': 1, 'MS - Otrohinolaryngology': 1, 'AMI Essentials- Applied Workshop for Aesthetic Procedures': 1, 'Advanced Course in Cosmetology and Aesthetic Medicine': 2, 'Fellowship in Micro Ear surgery': 1, 'Fellowship in Snoring Surgery': 1, 'Diploma in Industrial Health': 1, 'MSc - Psychotherapy': 1, 'Certification of Life Coach': 1, 'PG - Homeo': 1, 'M.A - Sanskrit': 1, 'DNB - Endocrinology': 1, 'Diabetes': 1, 'Metabolism': 1, 'Certified Yoga and Pranic healing Therapist': 1, 'Certified National Diabetes Educator': 1, 'Bachelor of Acupuncture': 1, 'Certified Analytical Hypnotherapist': 1, 'Diploma in Physiotherapy': 1, 'Certificate in Medical Cosmetology': 1, 'MD - Radiotherapy': 1, 'Certificate course in SUJOK Therapy': 1, 'Fellowship In Clinical Cosmetology': 1, 'Cochlear Implant Surgery': 1, 'Fellowship Cochlear Implant Training': 1, 'Post Graduate Diploma in Psychological Counseling': 1, 'Post Graduate Diploma in Diabetology (PGDD)(Madras Medical College)': 1, 'Diploma in Skin Treatments (UK)': 1, 'Certification of Aesthetic Dentistry & Periodontics': 1, 'MCh - Burns & Plastic Surgery': 1, 'EULAR Certificate in Rheumatology': 1, 'FICO (UK)': 1, 'PhD - Dermatology & Venereology': 1, 'DNB - Pulmonary Medicine': 3, 'Post Graduate Certificate Course In Aesthetic Dentistry': 1, 'FACP': 1, 'Member of the Royal College of General Practitioners UK (MRCGP)': 1, 'MD - Geriatrics': 1, 'MD AYURVED AND YOG': 1, 'Training Certificate in Hair Transplant': 1, 'Certificate Course in Gestational Diabetes Mellitus': 1, 'P.G. Diploma in Yoga & Meditation': 1, 'MD-Ayurvedic Vachaspati': 1, 'Post Graduate Diploma in Sports Medicine': 1, 'MSc. - Dermatology Skills and Treatment (University of Hertfordshire)': 1, 'MSc - Applied Psychology': 1, 'FRCSEd': 1, 'MSc - Endocrinology(UK)': 1, 'MCh - Cardio Thoracic Surgery': 1, 'Masters in Surgery (MS)': 1, 'MD - (Medicine - Endocrinology)': 1, 'MCEM': 1, 'DFM (UK)': 1, 'DIPLOMA IN TB AND CHEST DISEASES': 1, 'Certification in Nutrition and Weight Management': 1, 'DAT(Diploma in Accupressure and foot Reflexology)': 1, 'MASLP': 1, 'Diploma in Radio Therapy': 1, 'FDSRCS - Fellowship in Dental Surgery': 2, 'Fellowship in ClearPath Aligners': 1, 'FAMS - Dermatology': 1, 'Diploma In Anatomy Physiology': 1, 'PDCC - Pediatric Endocrinology': 1, 'Diploma in Counselling and Psychotherapy': 1, 'MD - CCM': 1, 'Ph.D(Doctor of Philosophy)': 1, 'PG Diploma in Value Education and Spirtuality': 1, 'Certified Implantologist': 1, 'Fellowship in Surgical Oncology (Head & Neck)': 1, 'Continuing Education Certificate Program on Temporomandibular Joint Disorder and Orofacial Pain': 1, 'Post Graduate in Homeopathy(london)': 1, 'DNB - Radiation Oncology': 1, 'MDS - Operative Dentistry': 1, 'DTCD(Diploma in TB and Chest Dieseas)': 1, 'Member Of The National Academy Of Medical Sciences': 1, 'DNB - Radiotherapy': 1, 'Post Graduate Diploma in Diabetology (PGDD)(University of Leicester': 1, 'DRCOG': 1, 'FDS Endodontics': 1, 'Certified in Advanced Orthodontics': 1, 'certification in smile designing': 1}\n"
     ]
    }
   ],
   "source": [
    "# Dict of each Qualification with their counts\n",
    "train['Qualification'] = train['Qualification'].str.split(\",\")\n",
    "Qualification = {}\n",
    "\n",
    "for x in train['Qualification'].values:\n",
    "    for qual in x:\n",
    "        qual = qual.strip()\n",
    "        if qual in Qualification:    #if value is there already in dict keys\n",
    "            Qualification[qual] += 1   #inc its count by 1\n",
    "        else:\n",
    "            Qualification[qual] = 1     #else include it in a dict with count of 1\n",
    "\n",
    "print(Qualification)"
   ]
  },
  {
   "cell_type": "code",
   "execution_count": 17,
   "metadata": {},
   "outputs": [
    {
     "name": "stdout",
     "output_type": "stream",
     "text": [
      "['MBBS', 'BDS', 'BAMS', 'BHMS', 'MD - Dermatology', 'MS - ENT', 'Venereology & Leprosy', 'MD - General Medicine', 'Diploma in Otorhinolaryngology (DLO)', 'MD - Homeopathy']\n"
     ]
    }
   ],
   "source": [
    "# Now, Extract Top 10 Qual from Qualification\n",
    "most_qual = sorted(Qualification.items(), key=lambda x: x[1], reverse=True)[:10]\n",
    "final_qual = []\n",
    "\n",
    "for qual in most_qual:\n",
    "    final_qual.append(qual[0])\n",
    "\n",
    "print(final_qual)\n",
    "\n",
    "# Encode extracted top 10 qualification into train dataset as new column.\n",
    "for qual in final_qual:\n",
    "    train[qual] = 0\n",
    "    \n",
    "for x,y in zip(train['Qualification'].values, np.array([i for i in range(len(train))])):\n",
    "    for c in x:\n",
    "        c = c.strip()\n",
    "        if c in final_qual:\n",
    "            train[c][y] = 1"
   ]
  },
  {
   "cell_type": "code",
   "execution_count": 18,
   "metadata": {},
   "outputs": [],
   "source": [
    "#drop the qualification, now it's of no use\n",
    "train.drop('Qualification', axis=1, inplace=True)"
   ]
  },
  {
   "cell_type": "code",
   "execution_count": 19,
   "metadata": {},
   "outputs": [],
   "source": [
    "# remove the Spaces from the city\n",
    "train['city'] = train['city'].apply(lambda x: re.sub(' +','',str(x)))\n",
    "#encode sector5 with correct city\n",
    "train['city'] = np.where(train['city'] == \"Sector5\", \"Delhi\", train['city'])"
   ]
  },
  {
   "cell_type": "code",
   "execution_count": 20,
   "metadata": {},
   "outputs": [
    {
     "data": {
      "image/png": "[encoded data removed]",
      "text/plain": [
       "<Figure size 1080x360 with 1 Axes>"
      ]
     },
     "metadata": {
      "needs_background": "light"
     },
     "output_type": "display_data"
    }
   ],
   "source": [
    "plt.figure(figsize=(15,5))\n",
    "sns.barplot(x='Profile',y='Fees',data=train)\n",
    "plt.title(\"Doctor Fees w.r.t. Profile\")\n",
    "plt.show()"
   ]
  },
  {
   "cell_type": "code",
   "execution_count": 21,
   "metadata": {},
   "outputs": [
    {
     "data": {
      "image/png": "[encoded data removed]",
      "text/plain": [
       "<Figure size 1080x360 with 1 Axes>"
      ]
     },
     "metadata": {
      "needs_background": "light"
     },
     "output_type": "display_data"
    }
   ],
   "source": [
    "plt.figure(figsize=(15,5))\n",
    "sns.barplot(x='Rating',y='Fees',data=train)\n",
    "plt.title(\"Doctor Fees w.r.t. Profile\")\n",
    "plt.show()"
   ]
  },
  {
   "cell_type": "code",
   "execution_count": 22,
   "metadata": {},
   "outputs": [
    {
     "data": {
      "image/png": "[encoded data removed]",
      "text/plain": [
       "<Figure size 1080x360 with 1 Axes>"
      ]
     },
     "metadata": {
      "needs_background": "light"
     },
     "output_type": "display_data"
    }
   ],
   "source": [
    "plt.figure(figsize=(15,5))\n",
    "sns.barplot(x='city',y='Fees',data=train)\n",
    "plt.title(\"Doctor Fees w.r.t. Profile\")\n",
    "plt.show()"
   ]
  },
  {
   "cell_type": "code",
   "execution_count": 23,
   "metadata": {},
   "outputs": [],
   "source": [
    "# encode Profile and city\n",
    "train = pd.get_dummies(train, columns=['city','Profile'], prefix=['city','Profile'])"
   ]
  },
  {
   "cell_type": "code",
   "execution_count": 24,
   "metadata": {},
   "outputs": [],
   "source": [
    "#Drop the Useless features\n",
    "train.drop(['Miscellaneous_Info','locality'], axis=1, inplace=True)"
   ]
  },
  {
   "cell_type": "code",
   "execution_count": 25,
   "metadata": {},
   "outputs": [],
   "source": [
    "#change the name of some columns to use it in correct way.\n",
    "train.rename(columns={'MD - Dermatology':'MD_Dermatology','MS - ENT':'MS_ENT','Venereology & Leprosy':'Venereology_Leprosy',\n",
    "                      'MD - General Medicine':'MD_General_Medicine','Diploma in Otorhinolaryngology (DLO)':'Diploma_in_Otorhinolaryngology',\n",
    "                      'MD - Homeopathy':'MD_Homeopathy','Profile_ENT Specialist':'Profile_ENT_Specialist',\n",
    "                      'Profile_General Medicine':'Profile_General_Medicine'}, inplace=True)"
   ]
  },
  {
   "cell_type": "code",
   "execution_count": 26,
   "metadata": {},
   "outputs": [],
   "source": [
    "x = train.drop('Fees',axis=1)    #Independent Variables\n",
    "y = train['Fees']                #Dependent Variables(Target)"
   ]
  },
  {
   "cell_type": "code",
   "execution_count": 27,
   "metadata": {},
   "outputs": [],
   "source": [
    "x_train, x_test, y_train, y_test = train_test_split(x,y,test_size=0.25,random_state=43)"
   ]
  },
  {
   "cell_type": "code",
   "execution_count": 28,
   "metadata": {},
   "outputs": [],
   "source": [
    "sc = StandardScaler()\n",
    "x_train = sc.fit_transform(x_train)\n",
    "x_test = sc.fit_transform(x_test)"
   ]
  },
  {
   "cell_type": "code",
   "execution_count": 29,
   "metadata": {},
   "outputs": [
    {
     "data": {
      "text/plain": [
       "array([[-0.74308958, -0.88739613, -0.94343173, ..., -0.37068124,\n",
       "        -0.49475106, -0.40691545],\n",
       "       [ 1.66600817, -0.88739613, -0.94343173, ..., -0.37068124,\n",
       "        -0.49475106, -0.40691545],\n",
       "       [-0.5646379 , -0.88739613, -0.94343173, ..., -0.37068124,\n",
       "        -0.49475106, -0.40691545],\n",
       "       ...,\n",
       "       [ 0.23839468,  1.17042744, -0.94343173, ..., -0.37068124,\n",
       "        -0.49475106, -0.40691545],\n",
       "       [-0.74308958,  1.17042744,  1.05996011, ..., -0.37068124,\n",
       "        -0.49475106, -0.40691545],\n",
       "       [ 0.14916884,  1.17042744,  1.05996011, ...,  2.69773568,\n",
       "        -0.49475106, -0.40691545]])"
      ]
     },
     "execution_count": 29,
     "metadata": {},
     "output_type": "execute_result"
    }
   ],
   "source": [
    "x_train"
   ]
  },
  {
   "cell_type": "code",
   "execution_count": 30,
   "metadata": {},
   "outputs": [
    {
     "data": {
      "text/plain": [
       "array([[ 0.07024187, -0.9098137 , -0.94072087, ..., -0.37984526,\n",
       "        -0.49559463, -0.40264132],\n",
       "       [ 0.52718179, -0.9098137 ,  1.06301458, ...,  2.63265096,\n",
       "        -0.49559463, -0.40264132],\n",
       "       [-0.38669805,  1.1399479 ,  1.06301458, ..., -0.37984526,\n",
       "        -0.49559463, -0.40264132],\n",
       "       ...,\n",
       "       [ 0.9841217 , -0.9098137 , -0.94072087, ..., -0.37984526,\n",
       "        -0.49559463,  2.48360005],\n",
       "       [-1.30057788, -0.9098137 , -0.94072087, ..., -0.37984526,\n",
       "        -0.49559463, -0.40264132],\n",
       "       [ 1.5324496 , -0.9098137 , -0.94072087, ..., -0.37984526,\n",
       "        -0.49559463, -0.40264132]])"
      ]
     },
     "execution_count": 30,
     "metadata": {},
     "output_type": "execute_result"
    }
   ],
   "source": [
    "x_test"
   ]
  },
  {
   "cell_type": "code",
   "execution_count": 31,
   "metadata": {},
   "outputs": [],
   "source": [
    "# to use RMSLE we will create our own scorer\n",
    "from sklearn.metrics import make_scorer\n",
    "\n",
    "# calculate RMSLE (SCORE func).\n",
    "def score(y_pred,y):\n",
    "    y_pred = np.log(y_pred)\n",
    "    y = np.log(y)\n",
    "    return 1 - ((np.sum((y_pred - y)**2)) / len(y))**1/2\n",
    "\n",
    "# SCORING func for Cross Validation (RandomizedSearchCV)\n",
    "scorer = make_scorer(score_func = score, greater_is_better=True)"
   ]
  },
  {
   "cell_type": "markdown",
   "metadata": {},
   "source": [
    "# Model Building"
   ]
  },
  {
   "cell_type": "code",
   "execution_count": 32,
   "metadata": {},
   "outputs": [
    {
     "name": "stdout",
     "output_type": "stream",
     "text": [
      "SVR() 0.802169518778292\n"
     ]
    }
   ],
   "source": [
    "# Support Vector Machine\n",
    "svm = SVR(gamma='scale')\n",
    "svm.fit(x_train,y_train)\n",
    "y_pred = svm.predict(x_test)\n",
    "print(svm, score(y_pred,y_test))"
   ]
  },
  {
   "cell_type": "code",
   "execution_count": 33,
   "metadata": {},
   "outputs": [
    {
     "name": "stdout",
     "output_type": "stream",
     "text": [
      "KNeighborsRegressor() 0.7741602154995761\n"
     ]
    }
   ],
   "source": [
    "# KNeighbors Regressor\n",
    "knn = KNeighborsRegressor()\n",
    "knn.fit(x_train,y_train)\n",
    "y_pred = knn.predict(x_test)\n",
    "print(knn, score(y_pred,y_test))"
   ]
  },
  {
   "cell_type": "code",
   "execution_count": 34,
   "metadata": {},
   "outputs": [
    {
     "name": "stdout",
     "output_type": "stream",
     "text": [
      "DecisionTreeRegressor() 0.6836271961375648\n"
     ]
    }
   ],
   "source": [
    "# Decision Tree Regressor\n",
    "dt = DecisionTreeRegressor()\n",
    "dt.fit(x_train,y_train)\n",
    "y_pred = dt.predict(x_test)\n",
    "print(dt, score(y_pred,y_test))"
   ]
  },
  {
   "cell_type": "code",
   "execution_count": 35,
   "metadata": {},
   "outputs": [
    {
     "name": "stdout",
     "output_type": "stream",
     "text": [
      "RandomForestRegressor() 0.7661506062818965\n"
     ]
    }
   ],
   "source": [
    "# Random Forest Regressor\n",
    "rf = RandomForestRegressor()\n",
    "rf.fit(x_train,y_train)\n",
    "y_pred = rf.predict(x_test)\n",
    "print(rf, score(y_pred,y_test))"
   ]
  },
  {
   "cell_type": "markdown",
   "metadata": {},
   "source": [
    "# Hyper Parameter Tuning"
   ]
  },
  {
   "cell_type": "code",
   "execution_count": 43,
   "metadata": {},
   "outputs": [
    {
     "name": "stdout",
     "output_type": "stream",
     "text": [
      "Fitting 5 folds for each of 25 candidates, totalling 125 fits\n",
      "[CV 1/5] END ........C=0.1, gamma=1, kernel=rbf;, score=0.004 total time=   1.2s\n",
      "[CV 2/5] END ........C=0.1, gamma=1, kernel=rbf;, score=0.004 total time=   1.3s\n",
      "[CV 3/5] END ........C=0.1, gamma=1, kernel=rbf;, score=0.002 total time=   1.2s\n",
      "[CV 4/5] END .......C=0.1, gamma=1, kernel=rbf;, score=-0.009 total time=   1.3s\n",
      "[CV 5/5] END ........C=0.1, gamma=1, kernel=rbf;, score=0.001 total time=   1.3s\n",
      "[CV 1/5] END ......C=0.1, gamma=0.1, kernel=rbf;, score=0.012 total time=   1.1s\n",
      "[CV 2/5] END ......C=0.1, gamma=0.1, kernel=rbf;, score=0.012 total time=   1.1s\n",
      "[CV 3/5] END ......C=0.1, gamma=0.1, kernel=rbf;, score=0.010 total time=   1.2s\n",
      "[CV 4/5] END .....C=0.1, gamma=0.1, kernel=rbf;, score=-0.006 total time=   1.1s\n",
      "[CV 5/5] END ......C=0.1, gamma=0.1, kernel=rbf;, score=0.009 total time=   1.1s\n",
      "[CV 1/5] END .....C=0.1, gamma=0.01, kernel=rbf;, score=0.015 total time=   1.1s\n",
      "[CV 2/5] END .....C=0.1, gamma=0.01, kernel=rbf;, score=0.015 total time=   1.2s\n",
      "[CV 3/5] END .....C=0.1, gamma=0.01, kernel=rbf;, score=0.012 total time=   1.2s\n",
      "[CV 4/5] END ....C=0.1, gamma=0.01, kernel=rbf;, score=-0.005 total time=   1.2s\n",
      "[CV 5/5] END .....C=0.1, gamma=0.01, kernel=rbf;, score=0.012 total time=   1.1s\n",
      "[CV 1/5] END ....C=0.1, gamma=0.001, kernel=rbf;, score=0.002 total time=   1.1s\n",
      "[CV 2/5] END ....C=0.1, gamma=0.001, kernel=rbf;, score=0.002 total time=   1.1s\n",
      "[CV 3/5] END ....C=0.1, gamma=0.001, kernel=rbf;, score=0.001 total time=   1.2s\n",
      "[CV 4/5] END ...C=0.1, gamma=0.001, kernel=rbf;, score=-0.009 total time=   1.1s\n",
      "[CV 5/5] END ...C=0.1, gamma=0.001, kernel=rbf;, score=-0.000 total time=   1.2s\n",
      "[CV 1/5] END ...C=0.1, gamma=0.0001, kernel=rbf;, score=0.000 total time=   1.2s\n",
      "[CV 2/5] END ...C=0.1, gamma=0.0001, kernel=rbf;, score=0.000 total time=   1.2s\n",
      "[CV 3/5] END ..C=0.1, gamma=0.0001, kernel=rbf;, score=-0.001 total time=   1.1s\n",
      "[CV 4/5] END ..C=0.1, gamma=0.0001, kernel=rbf;, score=-0.010 total time=   1.2s\n",
      "[CV 5/5] END ..C=0.1, gamma=0.0001, kernel=rbf;, score=-0.002 total time=   1.2s\n",
      "[CV 1/5] END ..........C=1, gamma=1, kernel=rbf;, score=0.030 total time=   1.2s\n",
      "[CV 2/5] END ..........C=1, gamma=1, kernel=rbf;, score=0.030 total time=   1.3s\n",
      "[CV 3/5] END ..........C=1, gamma=1, kernel=rbf;, score=0.028 total time=   1.2s\n",
      "[CV 4/5] END .........C=1, gamma=1, kernel=rbf;, score=-0.013 total time=   1.3s\n",
      "[CV 5/5] END ..........C=1, gamma=1, kernel=rbf;, score=0.027 total time=   1.3s\n",
      "[CV 1/5] END ........C=1, gamma=0.1, kernel=rbf;, score=0.069 total time=   1.1s\n",
      "[CV 2/5] END ........C=1, gamma=0.1, kernel=rbf;, score=0.066 total time=   1.1s\n",
      "[CV 3/5] END ........C=1, gamma=0.1, kernel=rbf;, score=0.062 total time=   1.4s\n",
      "[CV 4/5] END ........C=1, gamma=0.1, kernel=rbf;, score=0.003 total time=   1.9s\n",
      "[CV 5/5] END ........C=1, gamma=0.1, kernel=rbf;, score=0.062 total time=   2.0s\n",
      "[CV 1/5] END .......C=1, gamma=0.01, kernel=rbf;, score=0.081 total time=   1.8s\n",
      "[CV 2/5] END .......C=1, gamma=0.01, kernel=rbf;, score=0.081 total time=   1.8s\n",
      "[CV 3/5] END .......C=1, gamma=0.01, kernel=rbf;, score=0.077 total time=   1.6s\n",
      "[CV 4/5] END .......C=1, gamma=0.01, kernel=rbf;, score=0.017 total time=   1.2s\n",
      "[CV 5/5] END .......C=1, gamma=0.01, kernel=rbf;, score=0.077 total time=   1.2s\n",
      "[CV 1/5] END ......C=1, gamma=0.001, kernel=rbf;, score=0.021 total time=   1.1s\n",
      "[CV 2/5] END ......C=1, gamma=0.001, kernel=rbf;, score=0.022 total time=   1.2s\n",
      "[CV 3/5] END ......C=1, gamma=0.001, kernel=rbf;, score=0.019 total time=   1.1s\n",
      "[CV 4/5] END .....C=1, gamma=0.001, kernel=rbf;, score=-0.007 total time=   1.1s\n",
      "[CV 5/5] END ......C=1, gamma=0.001, kernel=rbf;, score=0.017 total time=   1.2s\n",
      "[CV 1/5] END .....C=1, gamma=0.0001, kernel=rbf;, score=0.002 total time=   1.2s\n",
      "[CV 2/5] END .....C=1, gamma=0.0001, kernel=rbf;, score=0.002 total time=   1.2s\n",
      "[CV 3/5] END .....C=1, gamma=0.0001, kernel=rbf;, score=0.001 total time=   1.1s\n",
      "[CV 4/5] END ....C=1, gamma=0.0001, kernel=rbf;, score=-0.009 total time=   1.1s\n",
      "[CV 5/5] END ....C=1, gamma=0.0001, kernel=rbf;, score=-0.000 total time=   1.2s\n",
      "[CV 1/5] END .........C=10, gamma=1, kernel=rbf;, score=0.104 total time=   1.3s\n",
      "[CV 2/5] END .........C=10, gamma=1, kernel=rbf;, score=0.093 total time=   1.3s\n",
      "[CV 3/5] END .........C=10, gamma=1, kernel=rbf;, score=0.099 total time=   1.3s\n",
      "[CV 4/5] END .........C=10, gamma=1, kernel=rbf;, score=0.040 total time=   1.3s\n",
      "[CV 5/5] END .........C=10, gamma=1, kernel=rbf;, score=0.121 total time=   1.3s\n",
      "[CV 1/5] END .......C=10, gamma=0.1, kernel=rbf;, score=0.167 total time=   1.1s\n",
      "[CV 2/5] END .......C=10, gamma=0.1, kernel=rbf;, score=0.147 total time=   1.2s\n",
      "[CV 3/5] END .......C=10, gamma=0.1, kernel=rbf;, score=0.163 total time=   1.2s\n",
      "[CV 4/5] END .......C=10, gamma=0.1, kernel=rbf;, score=0.079 total time=   1.1s\n",
      "[CV 5/5] END .......C=10, gamma=0.1, kernel=rbf;, score=0.179 total time=   1.1s\n",
      "[CV 1/5] END ......C=10, gamma=0.01, kernel=rbf;, score=0.169 total time=   1.1s\n",
      "[CV 2/5] END ......C=10, gamma=0.01, kernel=rbf;, score=0.157 total time=   1.2s\n",
      "[CV 3/5] END ......C=10, gamma=0.01, kernel=rbf;, score=0.167 total time=   1.1s\n",
      "[CV 4/5] END ......C=10, gamma=0.01, kernel=rbf;, score=0.085 total time=   1.1s\n",
      "[CV 5/5] END ......C=10, gamma=0.01, kernel=rbf;, score=0.172 total time=   1.1s\n",
      "[CV 1/5] END .....C=10, gamma=0.001, kernel=rbf;, score=0.096 total time=   1.2s\n",
      "[CV 2/5] END .....C=10, gamma=0.001, kernel=rbf;, score=0.097 total time=   1.1s\n",
      "[CV 3/5] END .....C=10, gamma=0.001, kernel=rbf;, score=0.094 total time=   1.1s\n",
      "[CV 4/5] END .....C=10, gamma=0.001, kernel=rbf;, score=0.028 total time=   1.1s\n",
      "[CV 5/5] END .....C=10, gamma=0.001, kernel=rbf;, score=0.100 total time=   1.2s\n",
      "[CV 1/5] END ....C=10, gamma=0.0001, kernel=rbf;, score=0.022 total time=   1.1s\n",
      "[CV 2/5] END ....C=10, gamma=0.0001, kernel=rbf;, score=0.023 total time=   1.1s\n",
      "[CV 3/5] END ....C=10, gamma=0.0001, kernel=rbf;, score=0.019 total time=   1.1s\n",
      "[CV 4/5] END ...C=10, gamma=0.0001, kernel=rbf;, score=-0.008 total time=   1.2s\n",
      "[CV 5/5] END ....C=10, gamma=0.0001, kernel=rbf;, score=0.018 total time=   1.1s\n",
      "[CV 1/5] END ........C=100, gamma=1, kernel=rbf;, score=0.088 total time=   1.3s\n",
      "[CV 2/5] END ........C=100, gamma=1, kernel=rbf;, score=0.114 total time=   1.4s\n",
      "[CV 3/5] END ........C=100, gamma=1, kernel=rbf;, score=0.076 total time=   1.4s\n",
      "[CV 4/5] END ........C=100, gamma=1, kernel=rbf;, score=0.031 total time=   1.3s\n",
      "[CV 5/5] END ........C=100, gamma=1, kernel=rbf;, score=0.136 total time=   1.4s\n",
      "[CV 1/5] END ......C=100, gamma=0.1, kernel=rbf;, score=0.143 total time=   1.3s\n",
      "[CV 2/5] END ......C=100, gamma=0.1, kernel=rbf;, score=0.123 total time=   1.3s\n",
      "[CV 3/5] END ......C=100, gamma=0.1, kernel=rbf;, score=0.127 total time=   1.2s\n",
      "[CV 4/5] END ......C=100, gamma=0.1, kernel=rbf;, score=0.058 total time=   1.2s\n",
      "[CV 5/5] END ......C=100, gamma=0.1, kernel=rbf;, score=0.144 total time=   1.2s\n",
      "[CV 1/5] END .....C=100, gamma=0.01, kernel=rbf;, score=0.169 total time=   1.1s\n",
      "[CV 2/5] END .....C=100, gamma=0.01, kernel=rbf;, score=0.142 total time=   1.1s\n",
      "[CV 3/5] END .....C=100, gamma=0.01, kernel=rbf;, score=0.173 total time=   1.2s\n",
      "[CV 4/5] END .....C=100, gamma=0.01, kernel=rbf;, score=0.078 total time=   1.2s\n",
      "[CV 5/5] END .....C=100, gamma=0.01, kernel=rbf;, score=0.185 total time=   1.2s\n",
      "[CV 1/5] END ....C=100, gamma=0.001, kernel=rbf;, score=0.152 total time=   1.1s\n",
      "[CV 2/5] END ....C=100, gamma=0.001, kernel=rbf;, score=0.146 total time=   1.1s\n",
      "[CV 3/5] END ....C=100, gamma=0.001, kernel=rbf;, score=0.157 total time=   1.1s\n",
      "[CV 4/5] END ....C=100, gamma=0.001, kernel=rbf;, score=0.075 total time=   1.1s\n",
      "[CV 5/5] END ....C=100, gamma=0.001, kernel=rbf;, score=0.167 total time=   1.1s\n",
      "[CV 1/5] END ...C=100, gamma=0.0001, kernel=rbf;, score=0.097 total time=   1.1s\n",
      "[CV 2/5] END ...C=100, gamma=0.0001, kernel=rbf;, score=0.099 total time=   1.2s\n",
      "[CV 3/5] END ...C=100, gamma=0.0001, kernel=rbf;, score=0.096 total time=   1.1s\n",
      "[CV 4/5] END ...C=100, gamma=0.0001, kernel=rbf;, score=0.029 total time=   1.1s\n",
      "[CV 5/5] END ...C=100, gamma=0.0001, kernel=rbf;, score=0.101 total time=   1.1s\n",
      "[CV 1/5] END ......C=1000, gamma=1, kernel=rbf;, score=-0.046 total time=   2.4s\n"
     ]
    },
    {
     "name": "stdout",
     "output_type": "stream",
     "text": [
      "[CV 2/5] END ......C=1000, gamma=1, kernel=rbf;, score=-0.001 total time=   4.2s\n",
      "[CV 3/5] END ......C=1000, gamma=1, kernel=rbf;, score=-0.067 total time=   5.8s\n",
      "[CV 4/5] END ......C=1000, gamma=1, kernel=rbf;, score=-0.055 total time=   3.5s\n",
      "[CV 5/5] END .......C=1000, gamma=1, kernel=rbf;, score=0.033 total time=   2.7s\n",
      "[CV 1/5] END .....C=1000, gamma=0.1, kernel=rbf;, score=0.057 total time=   2.0s\n",
      "[CV 2/5] END .....C=1000, gamma=0.1, kernel=rbf;, score=0.058 total time=   1.5s\n",
      "[CV 3/5] END .....C=1000, gamma=0.1, kernel=rbf;, score=0.054 total time=   2.0s\n",
      "[CV 4/5] END ....C=1000, gamma=0.1, kernel=rbf;, score=-0.013 total time=   1.8s\n",
      "[CV 5/5] END .....C=1000, gamma=0.1, kernel=rbf;, score=0.078 total time=   1.5s\n",
      "[CV 1/5] END ....C=1000, gamma=0.01, kernel=rbf;, score=0.137 total time=   1.3s\n",
      "[CV 2/5] END ....C=1000, gamma=0.01, kernel=rbf;, score=0.120 total time=   1.3s\n",
      "[CV 3/5] END ....C=1000, gamma=0.01, kernel=rbf;, score=0.138 total time=   1.2s\n",
      "[CV 4/5] END ....C=1000, gamma=0.01, kernel=rbf;, score=0.064 total time=   1.2s\n",
      "[CV 5/5] END ....C=1000, gamma=0.01, kernel=rbf;, score=0.179 total time=   1.2s\n",
      "[CV 1/5] END ...C=1000, gamma=0.001, kernel=rbf;, score=0.148 total time=   1.1s\n",
      "[CV 2/5] END ...C=1000, gamma=0.001, kernel=rbf;, score=0.148 total time=   1.1s\n",
      "[CV 3/5] END ...C=1000, gamma=0.001, kernel=rbf;, score=0.158 total time=   1.1s\n",
      "[CV 4/5] END ...C=1000, gamma=0.001, kernel=rbf;, score=0.064 total time=   1.1s\n",
      "[CV 5/5] END ...C=1000, gamma=0.001, kernel=rbf;, score=0.163 total time=   1.2s\n",
      "[CV 1/5] END ..C=1000, gamma=0.0001, kernel=rbf;, score=0.148 total time=   1.1s\n",
      "[CV 2/5] END ..C=1000, gamma=0.0001, kernel=rbf;, score=0.144 total time=   1.1s\n",
      "[CV 3/5] END ..C=1000, gamma=0.0001, kernel=rbf;, score=0.155 total time=   1.1s\n",
      "[CV 4/5] END ..C=1000, gamma=0.0001, kernel=rbf;, score=0.074 total time=   1.2s\n",
      "[CV 5/5] END ..C=1000, gamma=0.0001, kernel=rbf;, score=0.165 total time=   1.1s\n"
     ]
    },
    {
     "data": {
      "text/plain": [
       "GridSearchCV(estimator=SVR(),\n",
       "             param_grid={'C': [0.1, 1, 10, 100, 1000],\n",
       "                         'gamma': [1, 0.1, 0.01, 0.001, 0.0001],\n",
       "                         'kernel': ['rbf']},\n",
       "             verbose=3)"
      ]
     },
     "execution_count": 43,
     "metadata": {},
     "output_type": "execute_result"
    }
   ],
   "source": [
    "# defining parameter range\n",
    "param_grid = {'C': [0.1, 1, 10, 100, 1000], \n",
    "              'gamma': [1, 0.1, 0.01, 0.001, 0.0001],\n",
    "              'kernel': ['rbf']} \n",
    "  \n",
    "grid = GridSearchCV(svm, param_grid, refit = True, verbose = 3)\n",
    "  \n",
    "# fitting the model for grid search\n",
    "grid.fit(x_train, y_train)"
   ]
  },
  {
   "cell_type": "code",
   "execution_count": 44,
   "metadata": {},
   "outputs": [
    {
     "name": "stdout",
     "output_type": "stream",
     "text": [
      "{'C': 10, 'gamma': 0.01, 'kernel': 'rbf'}\n",
      "SVR(C=10, gamma=0.01)\n"
     ]
    }
   ],
   "source": [
    "# print best parameter after tuning\n",
    "print(grid.best_params_)\n",
    "  \n",
    "# print how our model looks after hyper-parameter tuning\n",
    "print(grid.best_estimator_)"
   ]
  },
  {
   "cell_type": "code",
   "execution_count": 52,
   "metadata": {},
   "outputs": [
    {
     "name": "stdout",
     "output_type": "stream",
     "text": [
      "SVR(C=10, gamma=0.01) 0.8146558176934553\n"
     ]
    }
   ],
   "source": [
    "# Support Vector Machine\n",
    "svm = SVR(C=10, gamma=0.01)\n",
    "svm.fit(x_train,y_train)\n",
    "y_pred = svm.predict(x_test)\n",
    "print(svm, score(y_pred,y_test))"
   ]
  },
  {
   "cell_type": "markdown",
   "metadata": {},
   "source": [
    "# Model Saving"
   ]
  },
  {
   "cell_type": "code",
   "execution_count": null,
   "metadata": {},
   "outputs": [],
   "source": [
    "import joblib\n",
    "joblib.dump(svm,\"FinalModel.pkl\")"
   ]
  }
 ],
 "metadata": {
  "kernelspec": {
   "display_name": "Python 3",
   "language": "python",
   "name": "python3"
  },
  "language_info": {
   "codemirror_mode": {
    "name": "ipython",
    "version": 3
   },
   "file_extension": ".py",
   "mimetype": "text/x-python",
   "name": "python",
   "nbconvert_exporter": "python",
   "pygments_lexer": "ipython3",
   "version": "3.7.3"
  }
 },
 "nbformat": 4,
 "nbformat_minor": 2
}
